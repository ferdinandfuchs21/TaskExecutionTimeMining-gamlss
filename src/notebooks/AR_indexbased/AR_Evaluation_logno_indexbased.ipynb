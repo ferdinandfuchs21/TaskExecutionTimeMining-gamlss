{
 "cells": [
  {
   "cell_type": "code",
   "execution_count": 37,
   "id": "61599282-3bd8-46fd-a995-d1b172f58433",
   "metadata": {},
   "outputs": [],
   "source": [
    "import numpy as np\n",
    "import sys\n",
    "import CRPS.CRPS as pscore\n",
    "\n",
    "sys.path.append('../../Evaluation/')\n",
    "from conduct_evaluation import ConductEvaluation\n",
    "\n",
    "from normal_evaluation.gamlss_evaluation import SampleOutcomes_GAMLSS_LogNormal\n",
    "\n",
    "import pandas as pd"
   ]
  },
  {
   "cell_type": "code",
   "execution_count": 38,
   "id": "de1647e8",
   "metadata": {},
   "outputs": [],
   "source": [
    "sample_model = SampleOutcomes_GAMLSS_LogNormal\n",
    "trained_model = None\n",
    "sample_model_kwargs = {}\n",
    "N = 10000\n",
    "n_processes = 50\n",
    "\n",
    "get_pscores = lambda likelihoods : [pscore(likelihoods[1][i], likelihoods[2][k][3]).compute()[0] for i, k in enumerate(list(likelihoods[0].keys()))]"
   ]
  },
  {
   "cell_type": "markdown",
   "id": "a02332e5",
   "metadata": {},
   "source": [
    "Evaluation index based"
   ]
  },
  {
   "cell_type": "code",
   "execution_count": 39,
   "id": "c715c7ab",
   "metadata": {},
   "outputs": [
    {
     "name": "stderr",
     "output_type": "stream",
     "text": [
      "100%|██████████| 358/358 [00:01<00:00, 334.45it/s]\n",
      "100%|██████████| 358/358 [04:54<00:00,  1.22it/s]  \n",
      "100%|██████████| 358/358 [07:19<00:00,  1.23s/it]  \n",
      "100%|██████████| 1444/1444 [00:01<00:00, 1231.76it/s]\n",
      "100%|██████████| 1444/1444 [07:05<00:00,  3.39it/s]  \n",
      "100%|██████████| 1444/1444 [10:39<00:00,  2.26it/s]  \n"
     ]
    }
   ],
   "source": [
    "train_event_log = pd.read_csv(\"../../../data/predictions_logno_indexbased/train_test.csv\", parse_dates=[\"time:timestamp_start\", \"time:timestamp_complete\"])\n",
    "test_event_log = pd.read_csv(\"../../../data/predictions_logno_indexbased/test_test.csv\", parse_dates=[\"time:timestamp_start\", \"time:timestamp_complete\"])\n",
    "\n",
    "evaluator_train = ConductEvaluation(\n",
    "    trained_model=trained_model,\n",
    "    sample_model_type=sample_model,\n",
    "    sample_model_kwargs=sample_model_kwargs,\n",
    "    event_log=train_event_log,\n",
    "    n=N,\n",
    "    n_processes=n_processes\n",
    ")\n",
    "\n",
    "evaluator_test = ConductEvaluation(\n",
    "    trained_model=trained_model,\n",
    "    sample_model_type=sample_model,\n",
    "    sample_model_kwargs=sample_model_kwargs,\n",
    "    event_log=test_event_log,\n",
    "    n=N,\n",
    "    n_processes=n_processes\n",
    ")\n",
    "\n",
    "likelihoods_test = evaluator_test.sample_cases(False, True)\n",
    "likelihoods_train = evaluator_train.sample_cases(False, True)\n",
    "\n",
    "ll_test = np.mean([v.ln() for v in likelihoods_test[0].values()])\n",
    "ll_train = np.mean([v.ln() for v in likelihoods_train[0].values()])\n",
    "crsp_train = np.mean(get_pscores(likelihoods_train))\n",
    "crsp_test = np.mean(get_pscores(likelihoods_test))\n"
   ]
  },
  {
   "cell_type": "code",
   "execution_count": 40,
   "id": "b83f75ed",
   "metadata": {},
   "outputs": [
    {
     "data": {
      "text/plain": [
       "Decimal('0.3909119128742252065352870170')"
      ]
     },
     "execution_count": 40,
     "metadata": {},
     "output_type": "execute_result"
    }
   ],
   "source": [
    "np.mean(ll_test)"
   ]
  },
  {
   "cell_type": "code",
   "execution_count": 41,
   "id": "7d81e086",
   "metadata": {},
   "outputs": [
    {
     "data": {
      "text/plain": [
       "Decimal('0.3166854706015278412750268936')"
      ]
     },
     "execution_count": 41,
     "metadata": {},
     "output_type": "execute_result"
    }
   ],
   "source": [
    "np.mean(ll_train)"
   ]
  },
  {
   "cell_type": "code",
   "execution_count": 42,
   "id": "03566a30",
   "metadata": {},
   "outputs": [
    {
     "data": {
      "text/plain": [
       "np.float64(9842.441614262638)"
      ]
     },
     "execution_count": 42,
     "metadata": {},
     "output_type": "execute_result"
    }
   ],
   "source": [
    "np.mean(crsp_train)"
   ]
  },
  {
   "cell_type": "code",
   "execution_count": 43,
   "id": "f8084e48",
   "metadata": {},
   "outputs": [
    {
     "data": {
      "text/plain": [
       "np.float64(9008.654913935321)"
      ]
     },
     "execution_count": 43,
     "metadata": {},
     "output_type": "execute_result"
    }
   ],
   "source": [
    "np.mean(crsp_test)"
   ]
  }
 ],
 "metadata": {
  "kernelspec": {
   "display_name": "BAML_Projects",
   "language": "python",
   "name": "baml_projects"
  },
  "language_info": {
   "codemirror_mode": {
    "name": "ipython",
    "version": 3
   },
   "file_extension": ".py",
   "mimetype": "text/x-python",
   "name": "python",
   "nbconvert_exporter": "python",
   "pygments_lexer": "ipython3",
   "version": "3.12.7"
  }
 },
 "nbformat": 4,
 "nbformat_minor": 5
}
