{
 "cells": [
  {
   "cell_type": "code",
   "execution_count": 1,
   "id": "61599282-3bd8-46fd-a995-d1b172f58433",
   "metadata": {},
   "outputs": [],
   "source": [
    "import numpy as np\n",
    "import sys\n",
    "import CRPS.CRPS as pscore\n",
    "\n",
    "sys.path.append('../../Evaluation/')\n",
    "from conduct_evaluation import ConductEvaluation\n",
    "\n",
    "from normal_evaluation.gamlss_evaluation import SampleOutcomes_GAMLSS_LogNormal\n",
    "\n",
    "import pandas as pd"
   ]
  },
  {
   "cell_type": "code",
   "execution_count": 2,
   "id": "de1647e8",
   "metadata": {},
   "outputs": [],
   "source": [
    "sample_model = SampleOutcomes_GAMLSS_LogNormal\n",
    "trained_model = None\n",
    "sample_model_kwargs = {}\n",
    "N = 1000\n",
    "n_processes = 50\n",
    "\n",
    "get_pscores = lambda likelihoods : [pscore(likelihoods[1][i], likelihoods[2][k][3]).compute()[0] for i, k in enumerate(list(likelihoods[0].keys()))]"
   ]
  },
  {
   "cell_type": "code",
   "execution_count": 3,
   "id": "c715c7ab",
   "metadata": {},
   "outputs": [
    {
     "name": "stderr",
     "output_type": "stream",
     "text": [
      "100%|██████████| 1202/1202 [00:01<00:00, 836.31it/s]\n",
      "100%|██████████| 1202/1202 [07:18<00:00,  2.74it/s]  \n",
      "100%|██████████| 1202/1202 [01:09<00:00, 17.24it/s]\n",
      "100%|██████████| 4960/4960 [00:04<00:00, 1235.90it/s]\n",
      "100%|██████████| 4960/4960 [04:51<00:00, 16.99it/s]  \n",
      "100%|██████████| 4960/4960 [01:46<00:00, 46.64it/s] \n"
     ]
    },
    {
     "data": {
      "text/plain": [
       "{'ll_train': Decimal('-Infinity'),\n",
       " 'll_test': Decimal('-3.662420344993327784136513406'),\n",
       " 'crsp_train': np.float64(14795.245391912782),\n",
       " 'crsp_test': np.float64(14326.490011833415)}"
      ]
     },
     "execution_count": 3,
     "metadata": {},
     "output_type": "execute_result"
    }
   ],
   "source": [
    "train_event_log = pd.read_csv(\"../../../data/PCR/predictions_logno/train_C.csv\", parse_dates=[\"time:timestamp_start\", \"time:timestamp_complete\"])\n",
    "test_event_log = pd.read_csv(\"../../../data/PCR/predictions_logno/test_C.csv\", parse_dates=[\"time:timestamp_start\", \"time:timestamp_complete\"])\n",
    "\n",
    "for col in [\"time:timestamp_start\", \"time:timestamp_complete\"]:\n",
    "    train_event_log[col] = pd.to_datetime(train_event_log[col], errors=\"coerce\")\n",
    "    test_event_log[col] = pd.to_datetime(test_event_log[col], errors=\"coerce\")\n",
    "\n",
    "evaluator_train = ConductEvaluation(\n",
    "    trained_model=trained_model,\n",
    "    sample_model_type=sample_model,\n",
    "    sample_model_kwargs=sample_model_kwargs,\n",
    "    event_log=train_event_log,\n",
    "    n=N,\n",
    "    n_processes=n_processes\n",
    ")\n",
    "\n",
    "evaluator_test = ConductEvaluation(\n",
    "    trained_model=trained_model,\n",
    "    sample_model_type=sample_model,\n",
    "    sample_model_kwargs=sample_model_kwargs,\n",
    "    event_log=test_event_log,\n",
    "    n=N,\n",
    "    n_processes=n_processes\n",
    ")\n",
    "\n",
    "likelihoods_test = evaluator_test.sample_cases(False, True)\n",
    "likelihoods_train = evaluator_train.sample_cases(False, True)\n",
    "\n",
    "results = {\n",
    "    \"ll_train\": np.mean([v.ln() for v in likelihoods_train[0].values()]),\n",
    "    \"ll_test\": np.mean([v.ln() for v in likelihoods_test[0].values()]),\n",
    "    \"crsp_train\": np.mean(get_pscores(likelihoods_train)),\n",
    "    \"crsp_test\": np.mean(get_pscores(likelihoods_test))\n",
    "}\n",
    "results\n"
   ]
  },
  {
   "cell_type": "code",
   "execution_count": 4,
   "id": "55952a8f",
   "metadata": {},
   "outputs": [
    {
     "name": "stderr",
     "output_type": "stream",
     "text": [
      "100%|██████████| 1202/1202 [00:01<00:00, 719.58it/s]\n",
      "100%|██████████| 1202/1202 [04:17<00:00,  4.68it/s] \n",
      "100%|██████████| 1202/1202 [01:24<00:00, 14.29it/s]\n",
      "100%|██████████| 4960/4960 [00:03<00:00, 1644.20it/s]\n",
      "100%|██████████| 4960/4960 [04:39<00:00, 17.77it/s]  \n",
      "100%|██████████| 4960/4960 [01:35<00:00, 52.06it/s] \n"
     ]
    },
    {
     "data": {
      "text/plain": [
       "{'ll_train': Decimal('-0.2145453374518771749920741435'),\n",
       " 'll_test': Decimal('-0.1847830576966518339450175164'),\n",
       " 'crsp_train': np.float64(80398.48460123486),\n",
       " 'crsp_test': np.float64(77105.22940191522)}"
      ]
     },
     "execution_count": 4,
     "metadata": {},
     "output_type": "execute_result"
    }
   ],
   "source": [
    "train_event_log = pd.read_csv(\"../../../data/PCR/predictions_logno/train_S.csv\", parse_dates=[\"time:timestamp_start\", \"time:timestamp_complete\"])\n",
    "test_event_log = pd.read_csv(\"../../../data/PCR/predictions_logno/test_S.csv\", parse_dates=[\"time:timestamp_start\", \"time:timestamp_complete\"])\n",
    "\n",
    "for col in [\"time:timestamp_start\", \"time:timestamp_complete\"]:\n",
    "    train_event_log[col] = pd.to_datetime(train_event_log[col], errors=\"coerce\")\n",
    "    test_event_log[col] = pd.to_datetime(test_event_log[col], errors=\"coerce\")\n",
    "\n",
    "evaluator_train = ConductEvaluation(\n",
    "    trained_model=trained_model,\n",
    "    sample_model_type=sample_model,\n",
    "    sample_model_kwargs=sample_model_kwargs,\n",
    "    event_log=train_event_log,\n",
    "    n=N,\n",
    "    n_processes=n_processes\n",
    ")\n",
    "\n",
    "evaluator_test = ConductEvaluation(\n",
    "    trained_model=trained_model,\n",
    "    sample_model_type=sample_model,\n",
    "    sample_model_kwargs=sample_model_kwargs,\n",
    "    event_log=test_event_log,\n",
    "    n=N,\n",
    "    n_processes=n_processes\n",
    ")\n",
    "\n",
    "likelihoods_test = evaluator_test.sample_cases(False, True)\n",
    "likelihoods_train = evaluator_train.sample_cases(False, True)\n",
    "\n",
    "\n",
    "results = {\n",
    "    \"ll_train\": np.mean([v.ln() for v in likelihoods_train[0].values()]),\n",
    "    \"ll_test\": np.mean([v.ln() for v in likelihoods_test[0].values()]),\n",
    "    \"crsp_train\": np.mean(get_pscores(likelihoods_train)),\n",
    "    \"crsp_test\": np.mean(get_pscores(likelihoods_test))\n",
    "}\n",
    "results\n"
   ]
  },
  {
   "cell_type": "code",
   "execution_count": 5,
   "id": "e9aa82dc",
   "metadata": {},
   "outputs": [
    {
     "name": "stderr",
     "output_type": "stream",
     "text": [
      "100%|██████████| 1202/1202 [00:00<00:00, 1306.00it/s]\n",
      "100%|██████████| 1202/1202 [03:46<00:00,  5.32it/s] \n",
      "100%|██████████| 1202/1202 [01:17<00:00, 15.44it/s]\n",
      "100%|██████████| 4960/4960 [00:02<00:00, 1847.51it/s]\n",
      "100%|██████████| 4960/4960 [07:08<00:00, 11.56it/s]  \n",
      "100%|██████████| 4960/4960 [03:02<00:00, 27.15it/s]  \n"
     ]
    },
    {
     "data": {
      "text/plain": [
       "{'ll_train': Decimal('-0.2172322263077836506988967448'),\n",
       " 'll_test': Decimal('-0.1932429086154569691808831073'),\n",
       " 'crsp_train': np.float64(69270.03384817753),\n",
       " 'crsp_test': np.float64(69735.92454679884)}"
      ]
     },
     "execution_count": 5,
     "metadata": {},
     "output_type": "execute_result"
    }
   ],
   "source": [
    "train_event_log = pd.read_csv(\"../../../data/PCR/predictions_logno/train_D.csv\", parse_dates=[\"time:timestamp_start\", \"time:timestamp_complete\"])\n",
    "test_event_log = pd.read_csv(\"../../../data/PCR/predictions_logno/test_D.csv\", parse_dates=[\"time:timestamp_start\", \"time:timestamp_complete\"])\n",
    "\n",
    "for col in [\"time:timestamp_start\", \"time:timestamp_complete\"]:\n",
    "    train_event_log[col] = pd.to_datetime(train_event_log[col], errors=\"coerce\")\n",
    "    test_event_log[col] = pd.to_datetime(test_event_log[col], errors=\"coerce\")\n",
    "\n",
    "evaluator_train = ConductEvaluation(\n",
    "    trained_model=trained_model,\n",
    "    sample_model_type=sample_model,\n",
    "    sample_model_kwargs=sample_model_kwargs,\n",
    "    event_log=train_event_log,\n",
    "    n=N,\n",
    "    n_processes=n_processes\n",
    ")\n",
    "\n",
    "evaluator_test = ConductEvaluation(\n",
    "    trained_model=trained_model,\n",
    "    sample_model_type=sample_model,\n",
    "    sample_model_kwargs=sample_model_kwargs,\n",
    "    event_log=test_event_log,\n",
    "    n=N,\n",
    "    n_processes=n_processes\n",
    ")\n",
    "\n",
    "likelihoods_test = evaluator_test.sample_cases(False, True)\n",
    "likelihoods_train = evaluator_train.sample_cases(False, True)\n",
    "\n",
    "\n",
    "results = {\n",
    "    \"ll_train\": np.mean([v.ln() for v in likelihoods_train[0].values()]),\n",
    "    \"ll_test\": np.mean([v.ln() for v in likelihoods_test[0].values()]),\n",
    "    \"crsp_train\": np.mean(get_pscores(likelihoods_train)),\n",
    "    \"crsp_test\": np.mean(get_pscores(likelihoods_test))\n",
    "}\n",
    "results\n"
   ]
  },
  {
   "cell_type": "code",
   "execution_count": 6,
   "id": "50f29882",
   "metadata": {},
   "outputs": [
    {
     "name": "stderr",
     "output_type": "stream",
     "text": [
      "100%|██████████| 1202/1202 [00:01<00:00, 655.24it/s]\n",
      "  0%|          | 0/1202 [00:00<?, ?it/s]"
     ]
    },
    {
     "name": "stderr",
     "output_type": "stream",
     "text": [
      "100%|██████████| 1202/1202 [08:09<00:00,  2.46it/s]  \n",
      "100%|██████████| 1202/1202 [02:13<00:00,  8.99it/s] \n",
      "100%|██████████| 4960/4960 [00:04<00:00, 1099.49it/s]\n",
      "100%|██████████| 4960/4960 [05:32<00:00, 14.91it/s]  \n",
      "100%|██████████| 4960/4960 [01:40<00:00, 49.58it/s] \n"
     ]
    },
    {
     "data": {
      "text/plain": [
       "{'ll_train': Decimal('-Infinity'),\n",
       " 'll_test': Decimal('-2.557798966648853654412685492'),\n",
       " 'crsp_train': np.float64(14638.333964161275),\n",
       " 'crsp_test': np.float64(14202.246336669152)}"
      ]
     },
     "execution_count": 6,
     "metadata": {},
     "output_type": "execute_result"
    }
   ],
   "source": [
    "train_event_log = pd.read_csv(\"../../../data/PCR/predictions_logno/train_CS.csv\", parse_dates=[\"time:timestamp_start\", \"time:timestamp_complete\"])\n",
    "test_event_log = pd.read_csv(\"../../../data/PCR/predictions_logno/test_CS.csv\", parse_dates=[\"time:timestamp_start\", \"time:timestamp_complete\"])\n",
    "\n",
    "for col in [\"time:timestamp_start\", \"time:timestamp_complete\"]:\n",
    "    train_event_log[col] = pd.to_datetime(train_event_log[col], errors=\"coerce\")\n",
    "    test_event_log[col] = pd.to_datetime(test_event_log[col], errors=\"coerce\")\n",
    "\n",
    "evaluator_train = ConductEvaluation(\n",
    "    trained_model=trained_model,\n",
    "    sample_model_type=sample_model,\n",
    "    sample_model_kwargs=sample_model_kwargs,\n",
    "    event_log=train_event_log,\n",
    "    n=N,\n",
    "    n_processes=n_processes\n",
    ")\n",
    "\n",
    "evaluator_test = ConductEvaluation(\n",
    "    trained_model=trained_model,\n",
    "    sample_model_type=sample_model,\n",
    "    sample_model_kwargs=sample_model_kwargs,\n",
    "    event_log=test_event_log,\n",
    "    n=N,\n",
    "    n_processes=n_processes\n",
    ")\n",
    "\n",
    "likelihoods_test = evaluator_test.sample_cases(False, True)\n",
    "likelihoods_train = evaluator_train.sample_cases(False, True)\n",
    "\n",
    "\n",
    "results = {\n",
    "    \"ll_train\": np.mean([v.ln() for v in likelihoods_train[0].values()]),\n",
    "    \"ll_test\": np.mean([v.ln() for v in likelihoods_test[0].values()]),\n",
    "    \"crsp_train\": np.mean(get_pscores(likelihoods_train)),\n",
    "    \"crsp_test\": np.mean(get_pscores(likelihoods_test))\n",
    "}\n",
    "results\n"
   ]
  },
  {
   "cell_type": "code",
   "execution_count": 7,
   "id": "4069d871",
   "metadata": {},
   "outputs": [
    {
     "name": "stderr",
     "output_type": "stream",
     "text": [
      "100%|██████████| 1202/1202 [00:01<00:00, 939.12it/s]\n",
      "  0%|          | 0/1202 [00:00<?, ?it/s]"
     ]
    },
    {
     "name": "stderr",
     "output_type": "stream",
     "text": [
      "100%|██████████| 1202/1202 [03:44<00:00,  5.36it/s] \n",
      "100%|██████████| 1202/1202 [01:30<00:00, 13.25it/s]\n",
      "100%|██████████| 4960/4960 [00:03<00:00, 1629.39it/s]\n",
      "100%|██████████| 4960/4960 [03:59<00:00, 20.75it/s]  \n",
      "100%|██████████| 4960/4960 [01:07<00:00, 73.80it/s]\n"
     ]
    },
    {
     "data": {
      "text/plain": [
       "{'ll_train': Decimal('-0.2214084325781528236398192974'),\n",
       " 'll_test': Decimal('-0.1917268640994681221664554445'),\n",
       " 'crsp_train': np.float64(82275.67441210036),\n",
       " 'crsp_test': np.float64(80563.18437165294)}"
      ]
     },
     "execution_count": 7,
     "metadata": {},
     "output_type": "execute_result"
    }
   ],
   "source": [
    "train_event_log = pd.read_csv(\"../../../data/PCR/predictions_logno/train_SD.csv\", parse_dates=[\"time:timestamp_start\", \"time:timestamp_complete\"])\n",
    "test_event_log = pd.read_csv(\"../../../data/PCR/predictions_logno/test_SD.csv\", parse_dates=[\"time:timestamp_start\", \"time:timestamp_complete\"])\n",
    "\n",
    "for col in [\"time:timestamp_start\", \"time:timestamp_complete\"]:\n",
    "    train_event_log[col] = pd.to_datetime(train_event_log[col], errors=\"coerce\")\n",
    "    test_event_log[col] = pd.to_datetime(test_event_log[col], errors=\"coerce\")\n",
    "\n",
    "evaluator_train = ConductEvaluation(\n",
    "    trained_model=trained_model,\n",
    "    sample_model_type=sample_model,\n",
    "    sample_model_kwargs=sample_model_kwargs,\n",
    "    event_log=train_event_log,\n",
    "    n=N,\n",
    "    n_processes=n_processes\n",
    ")\n",
    "\n",
    "evaluator_test = ConductEvaluation(\n",
    "    trained_model=trained_model,\n",
    "    sample_model_type=sample_model,\n",
    "    sample_model_kwargs=sample_model_kwargs,\n",
    "    event_log=test_event_log,\n",
    "    n=N,\n",
    "    n_processes=n_processes\n",
    ")\n",
    "\n",
    "likelihoods_test = evaluator_test.sample_cases(False, True)\n",
    "likelihoods_train = evaluator_train.sample_cases(False, True)\n",
    "\n",
    "\n",
    "results = {\n",
    "    \"ll_train\": np.mean([v.ln() for v in likelihoods_train[0].values()]),\n",
    "    \"ll_test\": np.mean([v.ln() for v in likelihoods_test[0].values()]),\n",
    "    \"crsp_train\": np.mean(get_pscores(likelihoods_train)),\n",
    "    \"crsp_test\": np.mean(get_pscores(likelihoods_test))\n",
    "}\n",
    "results\n"
   ]
  },
  {
   "cell_type": "code",
   "execution_count": 8,
   "id": "e60f735d",
   "metadata": {},
   "outputs": [
    {
     "name": "stderr",
     "output_type": "stream",
     "text": [
      "100%|██████████| 1202/1202 [00:01<00:00, 1117.52it/s]\n",
      "100%|██████████| 1202/1202 [02:57<00:00,  6.78it/s] \n",
      "100%|██████████| 1202/1202 [01:04<00:00, 18.60it/s]\n",
      "100%|██████████| 4960/4960 [00:03<00:00, 1336.40it/s]\n",
      "  0%|          | 0/4960 [00:00<?, ?it/s]"
     ]
    },
    {
     "name": "stderr",
     "output_type": "stream",
     "text": [
      "100%|██████████| 4960/4960 [04:03<00:00, 20.39it/s]  \n",
      "100%|██████████| 4960/4960 [02:21<00:00, 34.95it/s]  \n"
     ]
    },
    {
     "data": {
      "text/plain": [
       "{'ll_train': Decimal('-Infinity'),\n",
       " 'll_test': Decimal('-2.096081907781683437264461473'),\n",
       " 'crsp_train': np.float64(14676.253311304112),\n",
       " 'crsp_test': np.float64(14208.069575625588)}"
      ]
     },
     "execution_count": 8,
     "metadata": {},
     "output_type": "execute_result"
    }
   ],
   "source": [
    "train_event_log = pd.read_csv(\"../../../data/PCR/predictions_logno/train_CSD.csv\", parse_dates=[\"time:timestamp_start\", \"time:timestamp_complete\"])\n",
    "test_event_log = pd.read_csv(\"../../../data/PCR/predictions_logno/test_CSD.csv\", parse_dates=[\"time:timestamp_start\", \"time:timestamp_complete\"])\n",
    "\n",
    "for col in [\"time:timestamp_start\", \"time:timestamp_complete\"]:\n",
    "    train_event_log[col] = pd.to_datetime(train_event_log[col], errors=\"coerce\")\n",
    "    test_event_log[col] = pd.to_datetime(test_event_log[col], errors=\"coerce\")\n",
    "\n",
    "evaluator_train = ConductEvaluation(\n",
    "    trained_model=trained_model,\n",
    "    sample_model_type=sample_model,\n",
    "    sample_model_kwargs=sample_model_kwargs,\n",
    "    event_log=train_event_log,\n",
    "    n=N,\n",
    "    n_processes=n_processes\n",
    ")\n",
    "\n",
    "evaluator_test = ConductEvaluation(\n",
    "    trained_model=trained_model,\n",
    "    sample_model_type=sample_model,\n",
    "    sample_model_kwargs=sample_model_kwargs,\n",
    "    event_log=test_event_log,\n",
    "    n=N,\n",
    "    n_processes=n_processes\n",
    ")\n",
    "\n",
    "likelihoods_test = evaluator_test.sample_cases(False, True)\n",
    "likelihoods_train = evaluator_train.sample_cases(False, True)\n",
    "\n",
    "\n",
    "results = {\n",
    "    \"ll_train\": np.mean([v.ln() for v in likelihoods_train[0].values()]),\n",
    "    \"ll_test\": np.mean([v.ln() for v in likelihoods_test[0].values()]),\n",
    "    \"crsp_train\": np.mean(get_pscores(likelihoods_train)),\n",
    "    \"crsp_test\": np.mean(get_pscores(likelihoods_test))\n",
    "}\n",
    "results\n"
   ]
  },
  {
   "cell_type": "code",
   "execution_count": 9,
   "id": "b54d0782",
   "metadata": {},
   "outputs": [
    {
     "name": "stderr",
     "output_type": "stream",
     "text": [
      "100%|██████████| 1202/1202 [00:01<00:00, 941.36it/s]\n",
      "100%|██████████| 1202/1202 [07:28<00:00,  2.68it/s]  \n",
      "  0%|          | 0/1202 [00:00<?, ?it/s]"
     ]
    },
    {
     "name": "stderr",
     "output_type": "stream",
     "text": [
      "100%|██████████| 1202/1202 [02:26<00:00,  8.18it/s] \n",
      "100%|██████████| 4960/4960 [00:04<00:00, 1151.04it/s]\n",
      "100%|██████████| 4960/4960 [06:01<00:00, 13.72it/s]  \n",
      "100%|██████████| 4960/4960 [01:55<00:00, 43.02it/s]  \n"
     ]
    },
    {
     "data": {
      "text/plain": [
       "{'ll_train': Decimal('-Infinity'),\n",
       " 'll_test': Decimal('-1.326524965539217798329664272'),\n",
       " 'crsp_train': np.float64(16604.324931778374),\n",
       " 'crsp_test': np.float64(15241.455152212618)}"
      ]
     },
     "execution_count": 9,
     "metadata": {},
     "output_type": "execute_result"
    }
   ],
   "source": [
    "train_event_log = pd.read_csv(\"../../../data/PCR/predictions_logno/train_CSDCC.csv\", parse_dates=[\"time:timestamp_start\", \"time:timestamp_complete\"])\n",
    "test_event_log = pd.read_csv(\"../../../data/PCR/predictions_logno/test_CSDCC.csv\", parse_dates=[\"time:timestamp_start\", \"time:timestamp_complete\"])\n",
    "\n",
    "for col in [\"time:timestamp_start\", \"time:timestamp_complete\"]:\n",
    "    train_event_log[col] = pd.to_datetime(train_event_log[col], errors=\"coerce\")\n",
    "    test_event_log[col] = pd.to_datetime(test_event_log[col], errors=\"coerce\")\n",
    "\n",
    "evaluator_train = ConductEvaluation(\n",
    "    trained_model=trained_model,\n",
    "    sample_model_type=sample_model,\n",
    "    sample_model_kwargs=sample_model_kwargs,\n",
    "    event_log=train_event_log,\n",
    "    n=N,\n",
    "    n_processes=n_processes\n",
    ")\n",
    "\n",
    "evaluator_test = ConductEvaluation(\n",
    "    trained_model=trained_model,\n",
    "    sample_model_type=sample_model,\n",
    "    sample_model_kwargs=sample_model_kwargs,\n",
    "    event_log=test_event_log,\n",
    "    n=N,\n",
    "    n_processes=n_processes\n",
    ")\n",
    "\n",
    "likelihoods_test = evaluator_test.sample_cases(False, True)\n",
    "likelihoods_train = evaluator_train.sample_cases(False, True)\n",
    "\n",
    "\n",
    "results = {\n",
    "    \"ll_train\": np.mean([v.ln() for v in likelihoods_train[0].values()]),\n",
    "    \"ll_test\": np.mean([v.ln() for v in likelihoods_test[0].values()]),\n",
    "    \"crsp_train\": np.mean(get_pscores(likelihoods_train)),\n",
    "    \"crsp_test\": np.mean(get_pscores(likelihoods_test))\n",
    "}\n",
    "results\n"
   ]
  }
 ],
 "metadata": {
  "kernelspec": {
   "display_name": "FerdinandFuchs-ZC3r96nX",
   "language": "python",
   "name": "python3"
  },
  "language_info": {
   "codemirror_mode": {
    "name": "ipython",
    "version": 3
   },
   "file_extension": ".py",
   "mimetype": "text/x-python",
   "name": "python",
   "nbconvert_exporter": "python",
   "pygments_lexer": "ipython3",
   "version": "3.12.7"
  }
 },
 "nbformat": 4,
 "nbformat_minor": 5
}
