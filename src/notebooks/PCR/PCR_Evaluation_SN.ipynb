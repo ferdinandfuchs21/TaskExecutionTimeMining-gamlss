{
 "cells": [
  {
   "cell_type": "code",
   "execution_count": 1,
   "id": "61599282-3bd8-46fd-a995-d1b172f58433",
   "metadata": {},
   "outputs": [],
   "source": [
    "import numpy as np\n",
    "import sys\n",
    "import CRPS.CRPS as pscore\n",
    "\n",
    "sys.path.append('../../Evaluation/')\n",
    "from conduct_evaluation import ConductEvaluation\n",
    "\n",
    "from normal_evaluation.gamlss_evaluation import SampleOutcomes_GAMLSS_SN1\n",
    "\n",
    "import pandas as pd"
   ]
  },
  {
   "cell_type": "code",
   "execution_count": 2,
   "id": "de1647e8",
   "metadata": {},
   "outputs": [],
   "source": [
    "sample_model = SampleOutcomes_GAMLSS_SN1\n",
    "trained_model = None\n",
    "sample_model_kwargs = {}\n",
    "N = 1000\n",
    "n_processes = 50\n",
    "\n",
    "get_pscores = lambda likelihoods : [pscore(likelihoods[1][i], likelihoods[2][k][3]).compute()[0] for i, k in enumerate(list(likelihoods[0].keys()))]"
   ]
  },
  {
   "cell_type": "code",
   "execution_count": 10,
   "id": "c715c7ab",
   "metadata": {},
   "outputs": [
    {
     "name": "stderr",
     "output_type": "stream",
     "text": [
      "100%|██████████| 1202/1202 [00:00<00:00, 6564.30it/s]\n",
      "100%|██████████| 1202/1202 [35:59<00:00,  1.80s/it]   \n",
      "100%|██████████| 1202/1202 [01:45<00:00, 11.38it/s] \n",
      "100%|██████████| 4960/4960 [00:02<00:00, 1803.70it/s]\n",
      "100%|██████████| 4960/4960 [50:51<00:00,  1.63it/s]    \n",
      "100%|██████████| 4960/4960 [01:50<00:00, 44.82it/s] \n"
     ]
    },
    {
     "data": {
      "text/plain": [
       "{'ll_train': Decimal('-2.596818530472591355355711502'),\n",
       " 'll_test': Decimal('-2.162733340085251189999022009'),\n",
       " 'crsp_train': np.float64(25919.110336901198),\n",
       " 'crsp_test': np.float64(25448.971943012093)}"
      ]
     },
     "execution_count": 10,
     "metadata": {},
     "output_type": "execute_result"
    }
   ],
   "source": [
    "train_event_log = pd.read_csv(\"../../../data/PCR/predictions_SN/train_C.csv\", parse_dates=[\"time:timestamp_start\", \"time:timestamp_complete\"])\n",
    "test_event_log = pd.read_csv(\"../../../data/PCR/predictions_SN/test_C.csv\", parse_dates=[\"time:timestamp_start\", \"time:timestamp_complete\"])\n",
    "\n",
    "for col in [\"time:timestamp_start\", \"time:timestamp_complete\"]:\n",
    "    train_event_log[col] = pd.to_datetime(train_event_log[col], errors=\"coerce\")\n",
    "    test_event_log[col] = pd.to_datetime(test_event_log[col], errors=\"coerce\")\n",
    "\n",
    "evaluator_train = ConductEvaluation(\n",
    "    trained_model=trained_model,\n",
    "    sample_model_type=sample_model,\n",
    "    sample_model_kwargs=sample_model_kwargs,\n",
    "    event_log=train_event_log,\n",
    "    n=N,\n",
    "    n_processes=n_processes\n",
    ")\n",
    "\n",
    "evaluator_test = ConductEvaluation(\n",
    "    trained_model=trained_model,\n",
    "    sample_model_type=sample_model,\n",
    "    sample_model_kwargs=sample_model_kwargs,\n",
    "    event_log=test_event_log,\n",
    "    n=N,\n",
    "    n_processes=n_processes\n",
    ")\n",
    "\n",
    "likelihoods_test = evaluator_test.sample_cases(False, True)\n",
    "likelihoods_train = evaluator_train.sample_cases(False, True)\n",
    "\n",
    "results = {\n",
    "    \"ll_train\": np.mean([v.ln() for v in likelihoods_train[0].values()]),\n",
    "    \"ll_test\": np.mean([v.ln() for v in likelihoods_test[0].values()]),\n",
    "    \"crsp_train\": np.mean(get_pscores(likelihoods_train)),\n",
    "    \"crsp_test\": np.mean(get_pscores(likelihoods_test))\n",
    "}\n",
    "results\n"
   ]
  },
  {
   "cell_type": "code",
   "execution_count": 11,
   "id": "e769ed81",
   "metadata": {},
   "outputs": [
    {
     "name": "stderr",
     "output_type": "stream",
     "text": [
      "100%|██████████| 1202/1202 [00:00<00:00, 1464.75it/s]\n",
      "  0%|          | 0/1202 [00:00<?, ?it/s]"
     ]
    },
    {
     "name": "stderr",
     "output_type": "stream",
     "text": [
      "100%|██████████| 1202/1202 [39:59<00:00,  2.00s/it]   \n",
      "100%|██████████| 1202/1202 [01:06<00:00, 18.19it/s]\n",
      "100%|██████████| 4960/4960 [00:02<00:00, 1821.29it/s]\n",
      "100%|██████████| 4960/4960 [36:23<00:00,  2.27it/s]    \n",
      "100%|██████████| 4960/4960 [01:08<00:00, 72.32it/s] \n"
     ]
    },
    {
     "data": {
      "text/plain": [
       "{'ll_train': Decimal('-1.631831142426761153838093426'),\n",
       " 'll_test': Decimal('-1.386185465673848649154219232'),\n",
       " 'crsp_train': np.float64(24302.682551229846),\n",
       " 'crsp_test': np.float64(23780.829217124232)}"
      ]
     },
     "execution_count": 11,
     "metadata": {},
     "output_type": "execute_result"
    }
   ],
   "source": [
    "train_event_log = pd.read_csv(\"../../../data/PCR/predictions_SN/train_D.csv\", parse_dates=[\"time:timestamp_start\", \"time:timestamp_complete\"])\n",
    "test_event_log = pd.read_csv(\"../../../data/PCR/predictions_SN/test_D.csv\", parse_dates=[\"time:timestamp_start\", \"time:timestamp_complete\"])\n",
    "\n",
    "for col in [\"time:timestamp_start\", \"time:timestamp_complete\"]:\n",
    "    train_event_log[col] = pd.to_datetime(train_event_log[col], errors=\"coerce\")\n",
    "    test_event_log[col] = pd.to_datetime(test_event_log[col], errors=\"coerce\")\n",
    "\n",
    "evaluator_train = ConductEvaluation(\n",
    "    trained_model=trained_model,\n",
    "    sample_model_type=sample_model,\n",
    "    sample_model_kwargs=sample_model_kwargs,\n",
    "    event_log=train_event_log,\n",
    "    n=N,\n",
    "    n_processes=n_processes\n",
    ")\n",
    "\n",
    "evaluator_test = ConductEvaluation(\n",
    "    trained_model=trained_model,\n",
    "    sample_model_type=sample_model,\n",
    "    sample_model_kwargs=sample_model_kwargs,\n",
    "    event_log=test_event_log,\n",
    "    n=N,\n",
    "    n_processes=n_processes\n",
    ")\n",
    "\n",
    "likelihoods_test = evaluator_test.sample_cases(False, True)\n",
    "likelihoods_train = evaluator_train.sample_cases(False, True)\n",
    "\n",
    "results = {\n",
    "    \"ll_train\": np.mean([v.ln() for v in likelihoods_train[0].values()]),\n",
    "    \"ll_test\": np.mean([v.ln() for v in likelihoods_test[0].values()]),\n",
    "    \"crsp_train\": np.mean(get_pscores(likelihoods_train)),\n",
    "    \"crsp_test\": np.mean(get_pscores(likelihoods_test))\n",
    "}\n",
    "results\n"
   ]
  },
  {
   "cell_type": "code",
   "execution_count": 3,
   "id": "7cffd69c",
   "metadata": {},
   "outputs": [
    {
     "name": "stderr",
     "output_type": "stream",
     "text": [
      "100%|██████████| 1202/1202 [00:00<00:00, 3877.55it/s]\n",
      "100%|██████████| 1202/1202 [24:28<00:00,  1.22s/it]   \n",
      "100%|██████████| 1202/1202 [01:04<00:00, 18.68it/s]\n",
      "100%|██████████| 4960/4960 [00:02<00:00, 2447.69it/s]\n",
      "100%|██████████| 4960/4960 [28:33<00:00,  2.89it/s]    \n",
      "100%|██████████| 4960/4960 [01:11<00:00, 68.90it/s] \n"
     ]
    },
    {
     "data": {
      "text/plain": [
       "{'ll_train': Decimal('-2.542012421050584018120632567'),\n",
       " 'll_test': Decimal('-2.064440699064929446340637743'),\n",
       " 'crsp_train': np.float64(25875.526340055847),\n",
       " 'crsp_test': np.float64(25456.336444094126)}"
      ]
     },
     "execution_count": 3,
     "metadata": {},
     "output_type": "execute_result"
    }
   ],
   "source": [
    "train_event_log = pd.read_csv(\"../../../data/PCR/predictions_SN/train_CS.csv\", parse_dates=[\"time:timestamp_start\", \"time:timestamp_complete\"])\n",
    "test_event_log = pd.read_csv(\"../../../data/PCR/predictions_SN/test_CS.csv\", parse_dates=[\"time:timestamp_start\", \"time:timestamp_complete\"])\n",
    "\n",
    "for col in [\"time:timestamp_start\", \"time:timestamp_complete\"]:\n",
    "    train_event_log[col] = pd.to_datetime(train_event_log[col], errors=\"coerce\")\n",
    "    test_event_log[col] = pd.to_datetime(test_event_log[col], errors=\"coerce\")\n",
    "\n",
    "evaluator_train = ConductEvaluation(\n",
    "    trained_model=trained_model,\n",
    "    sample_model_type=sample_model,\n",
    "    sample_model_kwargs=sample_model_kwargs,\n",
    "    event_log=train_event_log,\n",
    "    n=N,\n",
    "    n_processes=n_processes\n",
    ")\n",
    "\n",
    "evaluator_test = ConductEvaluation(\n",
    "    trained_model=trained_model,\n",
    "    sample_model_type=sample_model,\n",
    "    sample_model_kwargs=sample_model_kwargs,\n",
    "    event_log=test_event_log,\n",
    "    n=N,\n",
    "    n_processes=n_processes\n",
    ")\n",
    "\n",
    "likelihoods_test = evaluator_test.sample_cases(False, True)\n",
    "likelihoods_train = evaluator_train.sample_cases(False, True)\n",
    "\n",
    "results = {\n",
    "    \"ll_train\": np.mean([v.ln() for v in likelihoods_train[0].values()]),\n",
    "    \"ll_test\": np.mean([v.ln() for v in likelihoods_test[0].values()]),\n",
    "    \"crsp_train\": np.mean(get_pscores(likelihoods_train)),\n",
    "    \"crsp_test\": np.mean(get_pscores(likelihoods_test))\n",
    "}\n",
    "results\n"
   ]
  },
  {
   "cell_type": "code",
   "execution_count": 4,
   "id": "b78c9952",
   "metadata": {},
   "outputs": [
    {
     "name": "stderr",
     "output_type": "stream",
     "text": [
      "100%|██████████| 1202/1202 [00:00<00:00, 1508.24it/s]\n",
      "100%|██████████| 1202/1202 [20:33<00:00,  1.03s/it]   \n",
      "100%|██████████| 1202/1202 [01:02<00:00, 19.17it/s]\n",
      "100%|██████████| 4960/4960 [00:01<00:00, 3063.02it/s]\n",
      "100%|██████████| 4960/4960 [22:32<00:00,  3.67it/s]   \n",
      "100%|██████████| 4960/4960 [00:52<00:00, 95.00it/s] \n"
     ]
    },
    {
     "data": {
      "text/plain": [
       "{'ll_train': Decimal('-2.544974794182429459453954238'),\n",
       " 'll_test': Decimal('-2.066437792367007524401897770'),\n",
       " 'crsp_train': np.float64(25870.09814548382),\n",
       " 'crsp_test': np.float64(25453.851733142885)}"
      ]
     },
     "execution_count": 4,
     "metadata": {},
     "output_type": "execute_result"
    }
   ],
