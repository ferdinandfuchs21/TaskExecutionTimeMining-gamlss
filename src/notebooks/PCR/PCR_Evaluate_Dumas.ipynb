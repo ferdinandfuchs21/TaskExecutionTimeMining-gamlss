{
 "cells": [
  {
   "cell_type": "code",
   "execution_count": 12,
   "id": "7fc3de6b-1100-4a37-aa96-92fb38b537f3",
   "metadata": {},
   "outputs": [],
   "source": [
    "import numpy as np\n",
    "import pandas\n",
    "import pm4py\n",
    "from matplotlib import pyplot as plt\n",
    "from sklearn.mixture import GaussianMixture\n",
    "import scipy.stats as stats\n",
    "import ot\n",
    "import os\n",
    "from tqdm import tqdm\n",
    "import collections\n",
    "import matplotlib.dates as md\n",
    "import importlib\n",
    "import pickle\n",
    "import random\n",
    "import CRPS.CRPS as pscore\n",
    "\n",
    "\n",
    "pandas.set_option('display.max_columns', None)\n",
    "#pandas.set_option('display.max_rows', None)\n",
    "\n",
    "\n",
    "import sys\n",
    "sys.path.append('../../TaskExecutionTimeMining/')\n",
    "from event_log_transformer import *\n",
    "\n",
    "#sys.path.append('../../Evaluation')\n",
    "sys.path.append('../../Evaluation/')\n",
    "from PCR_evaluation.dumas_evaluation import *"
   ]
  },
  {
   "cell_type": "code",
   "execution_count": 13,
   "id": "5dc939fc-0a9d-48a2-9baa-7e5625107e39",
   "metadata": {},
   "outputs": [],
   "source": [
    "with open('../../../data/PCR/transformed_event_logs/PCR_test.pickle', 'rb') as f:\n",
    "    test_event_log = pickle.load(f)\n",
    "\n",
    "with open('../../../data/PCR/transformed_event_logs/PCR_train.pickle', 'rb') as f:\n",
    "    train_event_log = pickle.load(f)"
   ]
  },
  {
   "cell_type": "code",
   "execution_count": 14,
   "id": "2a14cd35-1bfb-4edb-a0c8-3fdfe860f77a",
   "metadata": {},
   "outputs": [],
   "source": [
    "import sys\n",
    "sys.path.append('../../../src/TaskExecutionTimeMining/pix-framework-main/src')\n",
    "with open('./dumas_model_no_resource.pickle', 'rb') as f:\n",
    "    dumas_model = pickle.load(f)"
   ]
  },
  {
   "cell_type": "code",
   "execution_count": 15,
   "id": "6c3f96de",
   "metadata": {},
   "outputs": [],
   "source": [
    "import conduct_evaluation\n",
    "get_pscores = lambda likelihoods : [pscore(likelihoods[1][i], likelihoods[2][k][3]).compute()[0] for i, k in enumerate(list(likelihoods[0].keys()))]\n",
    "\n",
    "N = 1000\n",
    "n_processes = 50"
   ]
  },
  {
   "cell_type": "code",
   "execution_count": 16,
   "id": "8bd03e2c-c0a3-4055-b399-9e6f6c6c231d",
   "metadata": {},
   "outputs": [
    {
     "name": "stderr",
     "output_type": "stream",
     "text": [
      "100%|██████████| 4960/4960 [00:02<00:00, 2223.50it/s]\n",
      "100%|██████████| 4960/4960 [07:52<00:00, 10.49it/s]  \n",
      "100%|██████████| 4960/4960 [01:19<00:00, 62.01it/s] \n"
     ]
    }
   ],
   "source": [
    "import conduct_evaluation\n",
    "\n",
    "evaluator = conduct_evaluation.ConductEvaluation(dumas_model, SampleOutcomes_Dumas_Normal, \n",
    "                                                 {},\n",
    "                                     test_event_log, n=N)\n",
    "\n",
    "likelihoods_test = evaluator.sample_cases(plot_cases=False, multiprocessing=True)"
   ]
  },
  {
   "cell_type": "code",
   "execution_count": 19,
   "id": "49658f3b",
   "metadata": {},
   "outputs": [
    {
     "name": "stderr",
     "output_type": "stream",
     "text": [
      "100%|██████████| 4960/4960 [00:01<00:00, 3369.98it/s]\n",
      "  0%|          | 0/4960 [00:00<?, ?it/s]"
     ]
    },
    {
     "name": "stderr",
     "output_type": "stream",
     "text": [
      "100%|██████████| 4960/4960 [07:34<00:00, 10.90it/s]  \n",
      "100%|██████████| 4960/4960 [01:15<00:00, 65.38it/s] \n"
     ]
    }
   ],
   "source": [
    "import conduct_evaluation\n",
    "\n",
    "evaluator = conduct_evaluation.ConductEvaluation(dumas_model, SampleOutcomes_Dumas_Normal, \n",
    "                                                 {},\n",
    "                                     train_event_log, n=N)\n",
    "\n",
    "likelihoods_train = evaluator.sample_cases(plot_cases=False, multiprocessing=True)"
   ]
  },
  {
   "cell_type": "code",
   "execution_count": 22,
   "id": "61cfe46d",
   "metadata": {},
   "outputs": [
    {
     "data": {
      "text/plain": [
       "{'ll_train': Decimal('-0.8048287057489850445137120550'),\n",
       " 'll_test': Decimal('-0.8048287057489850445137120550'),\n",
       " 'crsp_train': np.float64(11236.325480630368),\n",
       " 'crsp_test': np.float64(11236.325480630368)}"
      ]
     },
     "execution_count": 22,
     "metadata": {},
     "output_type": "execute_result"
    }
   ],
   "source": [
    "results = {\n",
    "    \"ll_train\": np.mean([v.ln() for v in likelihoods_train[0].values()]),\n",
    "    \"ll_test\": np.mean([v.ln() for v in likelihoods_test[0].values()]),\n",
    "    \"crsp_train\": np.mean(get_pscores(likelihoods_train)),\n",
    "    \"crsp_test\": np.mean(get_pscores(likelihoods_test))\n",
    "}\n",
    "results"
   ]
  }
 ],
 "metadata": {
  "kernelspec": {
   "display_name": "FerdinandFuchs-ZC3r96nX",
   "language": "python",
   "name": "python3"
  },
  "language_info": {
   "codemirror_mode": {
    "name": "ipython",
    "version": 3
   },
   "file_extension": ".py",
   "mimetype": "text/x-python",
   "name": "python",
   "nbconvert_exporter": "python",
   "pygments_lexer": "ipython3",
   "version": "3.12.7"
  }
 },
 "nbformat": 4,
 "nbformat_minor": 5
}
