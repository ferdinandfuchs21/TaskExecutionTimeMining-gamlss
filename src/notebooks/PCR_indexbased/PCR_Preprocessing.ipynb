{
 "cells": [
  {
   "cell_type": "code",
   "execution_count": 1,
   "id": "05699f01-bd12-4ada-b933-48549300d9d6",
   "metadata": {},
   "outputs": [],
   "source": [
    "import pm4py\n",
    "import sys\n",
    "import random\n",
    "\n",
    "import pandas as pd\n",
    "sys.path.append(\"../../TaskExecutionTimeMining\")\n",
    "\n",
    "from event_log_transformer import *\n",
    "pd.set_option('display.max_columns', None)\n",
    "pd.set_option('display.max_rows', 200)"
   ]
  },
  {
   "cell_type": "code",
   "execution_count": 2,
   "id": "79bc1b62-464a-41a7-85ed-081b5e55fe26",
   "metadata": {},
   "outputs": [],
   "source": [
    "file_path = \"../../../data/pcr_event_log.csv\"\n",
    "event_log = pd.read_csv(file_path)\n",
    "event_log['time:timestamp'] = pd.to_datetime(event_log['time:timestamp'], format='%Y-%m-%d %H:%M:%S.%f')"
   ]
  },
  {
   "cell_type": "code",
   "execution_count": 3,
   "id": "2d2c7453",
   "metadata": {},
   "outputs": [
    {
     "name": "stderr",
     "output_type": "stream",
     "text": [
      "/Users/ferdinandfuchs/Documents/TaskExecutionTimeMining-gamlss/src/notebooks/PCR_indexbased/../../TaskExecutionTimeMining/event_log_transformer.py:132: SettingWithCopyWarning: \n",
      "A value is trying to be set on a copy of a slice from a DataFrame.\n",
      "Try using .loc[row_indexer,col_indexer] = value instead\n",
      "\n",
      "See the caveats in the documentation: https://pandas.pydata.org/pandas-docs/stable/user_guide/indexing.html#returning-a-view-versus-a-copy\n",
      "  start_end_event_log.loc[:, 'duration'] = start_end_event_log[timestamp_name + complete_name_gen] - start_end_event_log[timestamp_name + start_name_gen]\n",
      "/Users/ferdinandfuchs/Documents/TaskExecutionTimeMining-gamlss/src/notebooks/PCR_indexbased/../../TaskExecutionTimeMining/event_log_transformer.py:133: SettingWithCopyWarning: \n",
      "A value is trying to be set on a copy of a slice from a DataFrame.\n",
      "Try using .loc[row_indexer,col_indexer] = value instead\n",
      "\n",
      "See the caveats in the documentation: https://pandas.pydata.org/pandas-docs/stable/user_guide/indexing.html#returning-a-view-versus-a-copy\n",
      "  start_end_event_log.loc[:, 'duration_seconds'] = start_end_event_log['duration'] / datetime.timedelta(seconds=1) #(start_end_event_log['duration']).astype('timedelta64[s]').astype(float)\n",
      "/Users/ferdinandfuchs/Documents/TaskExecutionTimeMining-gamlss/src/notebooks/PCR_indexbased/../../TaskExecutionTimeMining/event_log_transformer.py:134: SettingWithCopyWarning: \n",
      "A value is trying to be set on a copy of a slice from a DataFrame.\n",
      "Try using .loc[row_indexer,col_indexer] = value instead\n",
      "\n",
      "See the caveats in the documentation: https://pandas.pydata.org/pandas-docs/stable/user_guide/indexing.html#returning-a-view-versus-a-copy\n",
      "  start_end_event_log.loc[:, 'duration_ms'] = start_end_event_log['duration'] / datetime.timedelta(milliseconds=1)\n",
      "/Users/ferdinandfuchs/Documents/TaskExecutionTimeMining-gamlss/src/notebooks/PCR_indexbased/../../TaskExecutionTimeMining/event_log_transformer.py:135: SettingWithCopyWarning: \n",
      "A value is trying to be set on a copy of a slice from a DataFrame.\n",
      "Try using .loc[row_indexer,col_indexer] = value instead\n",
      "\n",
      "See the caveats in the documentation: https://pandas.pydata.org/pandas-docs/stable/user_guide/indexing.html#returning-a-view-versus-a-copy\n",
      "  start_end_event_log.loc[:, 'duration_hours'] = start_end_event_log['duration'] / datetime.timedelta(hours=1)\n"
     ]
    }
   ],
   "source": [
    "start_end_event_log2 = TransformEventLog.start_end_event_log_mult(event_log,\n",
    "                                                                 start_name_1 = 'start',\n",
    "                                                                 complete_name_1 = 'complete',\n",
    "                                                                 merge_activity_on = ['concept:instance', 'concept:name'],\n",
    "                                                                 unique_column='cpee:activity_uuid')\n",
    "\n",
    "\n",
    "start_end_event_log2 = TransformEventLog.seconds_in_day(start_end_event_log2, 'time:timestamp_start')\n",
    "start_end_event_log2 = TransformEventLog.day_of_week(start_end_event_log2, 'time:timestamp_start')\n"
   ]
  },
  {
   "cell_type": "code",
   "execution_count": 4,
   "id": "8f05198b-8890-4167-abae-eed2f475ae74",
   "metadata": {},
   "outputs": [],
   "source": [
    "start_end_event_log2 = start_end_event_log2.rename(columns={'concept:instance': 'case:concept:name'})\n",
    "transformer = TransformEventLog()\n",
    "start_end_event_log2 = transformer.index_based_encode(\n",
    "    start_end_event_log2,\n",
    "    ['concept:name'],\n",
    "    max_prefix_len=3\n",
    ")"
   ]
  },
  {
   "cell_type": "code",
   "execution_count": 5,
   "id": "3a3cdda3-8353-4b19-99a6-1893bfd1dde6",
   "metadata": {},
   "outputs": [],
   "source": [
    "random.seed(42)\n",
    "train, test = pm4py.ml.split_train_test(start_end_event_log2, case_id_key='case:concept:name')"
   ]
  },
  {
   "cell_type": "code",
   "execution_count": 6,
   "id": "5eec767c-aad2-4ab8-ac84-1380f4160ec7",
   "metadata": {},
   "outputs": [
    {
     "name": "stdout",
     "output_type": "stream",
     "text": [
      "(14720, 7) (3570, 7)\n",
      "(4960,) (1202,)\n"
     ]
    }
   ],
   "source": [
    "print(train.shape, test.shape)\n",
    "print(train['case:concept:name'].unique().shape, test['case:concept:name'].unique().shape)"
   ]
  },
  {
   "cell_type": "code",
   "execution_count": 7,
   "id": "22c37f45-50f5-4591-9b69-e34b6059c79b",
   "metadata": {},
   "outputs": [],
   "source": [
    "train.to_csv('../../../data/PCR/transformed_event_logs_indexbased/PCR_train.csv', index=False, date_format='%Y-%m-%d %H:%M:%S.%f')\n",
    "train.to_pickle('../../../data/PCR/transformed_event_logs_indexbased/PCR_train.pickle')"
   ]
  },
  {
   "cell_type": "code",
   "execution_count": 8,
   "id": "1b66cea2-4368-4924-9d81-5b9d520aeb3c",
   "metadata": {},
   "outputs": [],
   "source": [
    "test.to_csv('../../../data/PCR/transformed_event_logs_indexbased/PCR_test.csv', index=False, date_format='%Y-%m-%d %H:%M:%S.%f')\n",
    "train.to_pickle('../../../data/PCR/transformed_event_logs_indexbased/PCR_test.pickle')"
   ]
  }
 ],
 "metadata": {
  "kernelspec": {
   "display_name": "Python (myenv)",
   "language": "python",
   "name": "myenv"
  },
  "language_info": {
   "codemirror_mode": {
    "name": "ipython",
    "version": 3
   },
   "file_extension": ".py",
   "mimetype": "text/x-python",
   "name": "python",
   "nbconvert_exporter": "python",
   "pygments_lexer": "ipython3",
   "version": "3.12.7"
  }
 },
 "nbformat": 4,
 "nbformat_minor": 5
}
