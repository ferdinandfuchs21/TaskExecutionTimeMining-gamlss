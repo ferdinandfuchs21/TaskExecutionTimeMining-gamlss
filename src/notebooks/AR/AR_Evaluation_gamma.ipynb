{
 "cells": [
  {
   "cell_type": "code",
   "execution_count": 30,
   "id": "61599282-3bd8-46fd-a995-d1b172f58433",
   "metadata": {},
   "outputs": [],
   "source": [
    "import numpy as np\n",
    "import sys\n",
    "import CRPS.CRPS as pscore\n",
    "\n",
    "sys.path.append('../../Evaluation/')\n",
    "from conduct_evaluation import ConductEvaluation\n",
    "\n",
    "from normal_evaluation.gamlss_evaluation import *\n",
    "\n",
    "import pandas as pd"
   ]
  },
  {
   "cell_type": "code",
   "execution_count": 31,
   "id": "de1647e8",
   "metadata": {},
   "outputs": [],
   "source": [
    "sample_model = SampleOutcomes_GAMLSS_Gamma\n",
    "trained_model = None\n",
    "sample_model_kwargs = {}\n",
    "N = 100\n",
    "n_processes = 50\n",
    "\n",
    "get_pscores = lambda likelihoods : [pscore(likelihoods[1][i], likelihoods[2][k][3]).compute()[0] for i, k in enumerate(list(likelihoods[0].keys()))]"
   ]
  },
  {
   "cell_type": "markdown",
   "id": "a02332e5",
   "metadata": {},
   "source": [
    "Evaluation concept_name (C)"
   ]
  },
  {
   "cell_type": "code",
   "execution_count": 32,
   "id": "c715c7ab",
   "metadata": {},
   "outputs": [
    {
     "name": "stderr",
     "output_type": "stream",
     "text": [
      "100%|██████████| 358/358 [00:04<00:00, 77.18it/s]\n",
      "100%|██████████| 358/358 [00:05<00:00, 68.41it/s]\n",
      "100%|██████████| 358/358 [00:05<00:00, 60.44it/s]\n",
      "100%|██████████| 1444/1444 [00:02<00:00, 622.62it/s]\n",
      "100%|██████████| 1444/1444 [00:07<00:00, 196.70it/s]\n",
      "100%|██████████| 1444/1444 [00:08<00:00, 163.75it/s]\n"
     ]
    },
    {
     "data": {
      "text/plain": [
       "{'ll_test': Decimal('-Infinity'),\n",
       " 'll_train': Decimal('-Infinity'),\n",
       " 'crsp_train': np.float64(14044.536759525568),\n",
       " 'crsp_test': np.float64(14169.205986255005)}"
      ]
     },
     "execution_count": 32,
     "metadata": {},
     "output_type": "execute_result"
    }
   ],
   "source": [
    "train_event_log = pd.read_csv(\"../../../data/AR/predictions_gamma/train_C.csv\", parse_dates=[\"time:timestamp_start\", \"time:timestamp_complete\"])\n",
    "test_event_log = pd.read_csv(\"../../../data/AR/predictions_gamma/test_C.csv\", parse_dates=[\"time:timestamp_start\", \"time:timestamp_complete\"])\n",
    "\n",
    "\n",
    "evaluator_train = ConductEvaluation(\n",
    "    trained_model=trained_model,\n",
    "    sample_model_type=sample_model,\n",
    "    sample_model_kwargs=sample_model_kwargs,\n",
    "    event_log=train_event_log,\n",
    "    n=N,\n",
    "    n_processes=n_processes\n",
    ")\n",
    "\n",
    "evaluator_test = ConductEvaluation(\n",
    "    trained_model=trained_model,\n",
    "    sample_model_type=sample_model,\n",
    "    sample_model_kwargs=sample_model_kwargs,\n",
    "    event_log=test_event_log,\n",
    "    n=N,\n",
    "    n_processes=n_processes\n",
    ")\n",
    "likelihoods_test = evaluator_test.sample_cases(False, True)\n",
    "likelihoods_train = evaluator_train.sample_cases(False, True)\n",
    "\n",
    "results = {\n",
    "    \"ll_test\": np.mean([v.ln() for v in likelihoods_test[0].values()]),\n",
    "    \"ll_train\": np.mean([v.ln() for v in likelihoods_train[0].values()]),\n",
    "    \"crsp_train\": np.mean(get_pscores(likelihoods_train)),\n",
    "    \"crsp_test\": np.mean(get_pscores(likelihoods_test))\n",
    "}\n",
    "results\n"
   ]
  },
  {
   "cell_type": "markdown",
   "id": "c4fa0596",
   "metadata": {},
   "source": [
    "Evaluation org_resource (R)"
   ]
  },
  {
   "cell_type": "code",
   "execution_count": 33,
   "id": "a4ab3008",
   "metadata": {},
   "outputs": [
    {
     "name": "stderr",
     "output_type": "stream",
     "text": [
      "100%|██████████| 358/358 [00:01<00:00, 248.83it/s]\n",
      "100%|██████████| 358/358 [00:05<00:00, 69.07it/s]\n",
      "100%|██████████| 358/358 [00:05<00:00, 60.74it/s]\n",
      "100%|██████████| 1444/1444 [00:01<00:00, 1129.18it/s]\n",
      "100%|██████████| 1444/1444 [00:07<00:00, 203.78it/s]\n",
      "100%|██████████| 1444/1444 [00:09<00:00, 159.87it/s]\n"
     ]
    },
    {
     "data": {
      "text/plain": [
       "{'ll_test': Decimal('-Infinity'),\n",
       " 'll_train': Decimal('-Infinity'),\n",
       " 'crsp_train': np.float64(44080.10078923866),\n",
       " 'crsp_test': np.float64(42862.5335759744)}"
      ]
     },
     "execution_count": 33,
     "metadata": {},
     "output_type": "execute_result"
    }
   ],
   "source": [
    "train_event_log = pd.read_csv(\"../../../data/AR/predictions_logno/train_R.csv\", parse_dates=[\"time:timestamp_start\", \"time:timestamp_complete\"])\n",
    "test_event_log = pd.read_csv(\"../../../data/AR/predictions_logno/test_R.csv\", parse_dates=[\"time:timestamp_start\", \"time:timestamp_complete\"])\n",
    "\n",
    "evaluator_train = ConductEvaluation(\n",
    "    trained_model=trained_model,\n",
    "    sample_model_type=sample_model,\n",
    "    sample_model_kwargs=sample_model_kwargs,\n",
    "    event_log=train_event_log,\n",
    "    n=N,\n",
    "    n_processes=n_processes\n",
    ")\n",
    "\n",
    "evaluator_test = ConductEvaluation(\n",
    "    trained_model=trained_model,\n",
    "    sample_model_type=sample_model,\n",
    "    sample_model_kwargs=sample_model_kwargs,\n",
    "    event_log=test_event_log,\n",
    "    n=N,\n",
    "    n_processes=n_processes\n",
    ")\n",
    "likelihoods_test = evaluator_test.sample_cases(False, True)\n",
    "likelihoods_train = evaluator_train.sample_cases(False, True)\n",
    "\n",
    "results = {\n",
    "    \"ll_test\": np.mean([v.ln() for v in likelihoods_test[0].values()]),\n",
    "    \"ll_train\": np.mean([v.ln() for v in likelihoods_train[0].values()]),\n",
    "    \"crsp_train\": np.mean(get_pscores(likelihoods_train)),\n",
    "    \"crsp_test\": np.mean(get_pscores(likelihoods_test))\n",
    "}\n",
    "results\n"
   ]
  },
  {
   "cell_type": "markdown",
   "id": "5708b2d9",
   "metadata": {},
   "source": [
    "Evaluation concept_name (C) & org_resource (R)"
   ]
  },
  {
   "cell_type": "code",
   "execution_count": 34,
   "id": "a7c1e9ff",
   "metadata": {},
   "outputs": [
    {
     "name": "stderr",
     "output_type": "stream",
     "text": [
      "100%|██████████| 358/358 [00:01<00:00, 279.43it/s]\n",
      "100%|██████████| 358/358 [00:04<00:00, 76.30it/s]\n",
      "100%|██████████| 358/358 [00:03<00:00, 102.31it/s]\n",
      "100%|██████████| 1444/1444 [00:01<00:00, 1062.82it/s]\n",
      "100%|██████████| 1444/1444 [00:07<00:00, 184.99it/s]\n",
      "100%|██████████| 1444/1444 [00:04<00:00, 290.82it/s]\n"
     ]
    },
    {
     "data": {
      "text/plain": [
       "{'ll_test': Decimal('-Infinity'),\n",
       " 'll_train': Decimal('-Infinity'),\n",
       " 'crsp_train': np.float64(44080.53196021828),\n",
       " 'crsp_test': np.float64(42862.98374698385)}"
      ]
     },
     "execution_count": 34,
     "metadata": {},
     "output_type": "execute_result"
    }
   ],
   "source": [
    "train_event_log = pd.read_csv(\"../../../data/AR/predictions_logno/train_CR.csv\", parse_dates=[\"time:timestamp_start\", \"time:timestamp_complete\"])\n",
    "test_event_log = pd.read_csv(\"../../../data/AR/predictions_logno/test_CR.csv\", parse_dates=[\"time:timestamp_start\", \"time:timestamp_complete\"])\n",
    "\n",
    "evaluator_train = ConductEvaluation(\n",
    "    trained_model=trained_model,\n",
    "    sample_model_type=sample_model,\n",
    "    sample_model_kwargs=sample_model_kwargs,\n",
    "    event_log=train_event_log,\n",
    "    n=N,\n",
    "    n_processes=n_processes\n",
    ")\n",
    "\n",
    "evaluator_test = ConductEvaluation(\n",
    "    trained_model=trained_model,\n",
    "    sample_model_type=sample_model,\n",
    "    sample_model_kwargs=sample_model_kwargs,\n",
    "    event_log=test_event_log,\n",
    "    n=N,\n",
    "    n_processes=n_processes\n",
    ")\n",
    "likelihoods_test = evaluator_test.sample_cases(False, True)\n",
    "likelihoods_train = evaluator_train.sample_cases(False, True)\n",
    "\n",
    "results = {\n",
    "    \"ll_test\": np.mean([v.ln() for v in likelihoods_test[0].values()]),\n",
    "    \"ll_train\": np.mean([v.ln() for v in likelihoods_train[0].values()]),\n",
    "    \"crsp_train\": np.mean(get_pscores(likelihoods_train)),\n",
    "    \"crsp_test\": np.mean(get_pscores(likelihoods_test))\n",
    "}\n",
    "results\n"
   ]
  },
  {
   "cell_type": "markdown",
   "id": "14017475",
   "metadata": {},
   "source": [
    "Evaluation concept_name (C), org_resource (R), day_of_week (D)"
   ]
  },
  {
   "cell_type": "code",
   "execution_count": 35,
   "id": "91ce0d9e",
   "metadata": {},
   "outputs": [
    {
     "name": "stderr",
     "output_type": "stream",
     "text": [
      "100%|██████████| 358/358 [00:01<00:00, 304.46it/s]\n",
      "100%|██████████| 358/358 [00:04<00:00, 73.62it/s]\n",
      "100%|██████████| 358/358 [00:03<00:00, 95.93it/s]\n",
      "100%|██████████| 1444/1444 [00:01<00:00, 966.84it/s]\n",
      "100%|██████████| 1444/1444 [00:07<00:00, 180.76it/s]\n",
      "100%|██████████| 1444/1444 [00:04<00:00, 304.09it/s]\n"
     ]
    },
    {
     "data": {
      "text/plain": [
       "{'ll_test': Decimal('-Infinity'),\n",
       " 'll_train': Decimal('-Infinity'),\n",
       " 'crsp_train': np.float64(44080.53055974718),\n",
       " 'crsp_test': np.float64(42862.9845541546)}"
      ]
     },
     "execution_count": 35,
     "metadata": {},
     "output_type": "execute_result"
    }
   ],
   "source": [
    "train_event_log = pd.read_csv(\"../../../data/AR/predictions_logno/train_CRD.csv\", parse_dates=[\"time:timestamp_start\", \"time:timestamp_complete\"])\n",
    "test_event_log = pd.read_csv(\"../../../data/AR/predictions_logno/test_CRD.csv\", parse_dates=[\"time:timestamp_start\", \"time:timestamp_complete\"])\n",
    "\n",
    "evaluator_train = ConductEvaluation(\n",
    "    trained_model=trained_model,\n",
    "    sample_model_type=sample_model,\n",
    "    sample_model_kwargs=sample_model_kwargs,\n",
    "    event_log=train_event_log,\n",
    "    n=N,\n",
    "    n_processes=n_processes\n",
    ")\n",
    "\n",
    "evaluator_test = ConductEvaluation(\n",
    "    trained_model=trained_model,\n",
    "    sample_model_type=sample_model,\n",
    "    sample_model_kwargs=sample_model_kwargs,\n",
    "    event_log=test_event_log,\n",
    "    n=N,\n",
    "    n_processes=n_processes\n",
    ")\n",
    "likelihoods_test = evaluator_test.sample_cases(False, True)\n",
    "likelihoods_train = evaluator_train.sample_cases(False, True)\n",
    "\n",
    "results = {\n",
    "    \"ll_test\": np.mean([v.ln() for v in likelihoods_test[0].values()]),\n",
    "    \"ll_train\": np.mean([v.ln() for v in likelihoods_train[0].values()]),\n",
    "    \"crsp_train\": np.mean(get_pscores(likelihoods_train)),\n",
    "    \"crsp_test\": np.mean(get_pscores(likelihoods_test))\n",
    "}\n",
    "results\n",
    "\n"
   ]
  },
  {
   "cell_type": "markdown",
   "id": "4ef1bd19",
   "metadata": {},
   "source": [
    "Evaluation concept_name (C), org_resource (R), day_of_week (D), seconds_since_midnight (S)"
   ]
  },
  {
   "cell_type": "code",
   "execution_count": 36,
   "id": "91e8a137",
   "metadata": {},
   "outputs": [
    {
     "name": "stderr",
     "output_type": "stream",
     "text": [
      "100%|██████████| 358/358 [00:01<00:00, 335.48it/s]\n",
      "100%|██████████| 358/358 [00:05<00:00, 67.32it/s]\n",
      "100%|██████████| 358/358 [00:03<00:00, 97.59it/s]\n",
      "100%|██████████| 1444/1444 [00:01<00:00, 1185.55it/s]\n",
      "100%|██████████| 1444/1444 [00:09<00:00, 159.69it/s]\n",
      "100%|██████████| 1444/1444 [00:04<00:00, 310.08it/s]\n"
     ]
    },
    {
     "data": {
      "text/plain": [
       "{'ll_test': Decimal('-Infinity'),\n",
       " 'll_train': Decimal('-Infinity'),\n",
       " 'crsp_train': np.float64(44080.55729586151),\n",
       " 'crsp_test': np.float64(42862.99769207878)}"
      ]
     },
     "execution_count": 36,
     "metadata": {},
     "output_type": "execute_result"
    }
   ],
   "source": [
    "train_event_log = pd.read_csv(\"../../../data/AR/predictions_logno/train_CRDS.csv\", parse_dates=[\"time:timestamp_start\", \"time:timestamp_complete\"])\n",
    "test_event_log = pd.read_csv(\"../../../data/AR/predictions_logno/test_CRDS.csv\", parse_dates=[\"time:timestamp_start\", \"time:timestamp_complete\"])\n",
    "\n",
    "evaluator_train = ConductEvaluation(\n",
    "    trained_model=trained_model,\n",
    "    sample_model_type=sample_model,\n",
    "    sample_model_kwargs=sample_model_kwargs,\n",
    "    event_log=train_event_log,\n",
    "    n=N,\n",
    "    n_processes=n_processes\n",
    ")\n",
    "\n",
    "evaluator_test = ConductEvaluation(\n",
    "    trained_model=trained_model,\n",
    "    sample_model_type=sample_model,\n",
    "    sample_model_kwargs=sample_model_kwargs,\n",
    "    event_log=test_event_log,\n",
    "    n=N,\n",
    "    n_processes=n_processes\n",
    ")\n",
    "likelihoods_test = evaluator_test.sample_cases(False, True)\n",
    "likelihoods_train = evaluator_train.sample_cases(False, True)\n",
    "\n",
    "results = {\n",
    "    \"ll_test\": np.mean([v.ln() for v in likelihoods_test[0].values()]),\n",
    "    \"ll_train\": np.mean([v.ln() for v in likelihoods_train[0].values()]),\n",
    "    \"crsp_train\": np.mean(get_pscores(likelihoods_train)),\n",
    "    \"crsp_test\": np.mean(get_pscores(likelihoods_test))\n",
    "}\n",
    "results\n"
   ]
  },
  {
   "cell_type": "markdown",
   "id": "7f08631b",
   "metadata": {},
   "source": [
    "Evaluation concept_name (C), org_resource (R), day_of_week (D), seconds_since_midnight (S), concept_name_count (CC)"
   ]
  },
  {
   "cell_type": "code",
   "execution_count": 37,
   "id": "640487f7",
   "metadata": {},
   "outputs": [
    {
     "name": "stderr",
     "output_type": "stream",
     "text": [
      "100%|██████████| 358/358 [00:01<00:00, 246.83it/s]\n",
      "100%|██████████| 358/358 [00:05<00:00, 67.84it/s]\n",
      "100%|██████████| 358/358 [00:02<00:00, 121.23it/s]\n",
      "100%|██████████| 1444/1444 [00:01<00:00, 1212.24it/s]\n",
      "100%|██████████| 1444/1444 [00:06<00:00, 216.11it/s]\n",
      "100%|██████████| 1444/1444 [00:04<00:00, 360.53it/s]\n"
     ]
    },
    {
     "data": {
      "text/plain": [
       "{'ll_test': Decimal('-Infinity'),\n",
       " 'll_train': Decimal('-Infinity'),\n",
       " 'crsp_train': np.float64(44080.565768812296),\n",
       " 'crsp_test': np.float64(42863.01389051118)}"
      ]
     },
     "execution_count": 37,
     "metadata": {},
     "output_type": "execute_result"
    }
   ],
   "source": [
    "train_event_log = pd.read_csv(\"../../../data/AR/predictions_logno/train_CRDSCC.csv\", parse_dates=[\"time:timestamp_start\", \"time:timestamp_complete\"])\n",
    "test_event_log = pd.read_csv(\"../../../data/AR/predictions_logno/test_CRDSCC.csv\", parse_dates=[\"time:timestamp_start\", \"time:timestamp_complete\"])\n",
    "\n",
    "evaluator_train = ConductEvaluation(\n",
    "    trained_model=trained_model,\n",
    "    sample_model_type=sample_model,\n",
    "    sample_model_kwargs=sample_model_kwargs,\n",
    "    event_log=train_event_log,\n",
    "    n=N,\n",
    "    n_processes=n_processes\n",
    ")\n",
    "\n",
    "evaluator_test = ConductEvaluation(\n",
    "    trained_model=trained_model,\n",
    "    sample_model_type=sample_model,\n",
    "    sample_model_kwargs=sample_model_kwargs,\n",
    "    event_log=test_event_log,\n",
    "    n=N,\n",
    "    n_processes=n_processes\n",
    ")\n",
    "likelihoods_test = evaluator_test.sample_cases(False, True)\n",
    "likelihoods_train = evaluator_train.sample_cases(False, True)\n",
    "\n",
    "results = {\n",
    "    \"ll_test\": np.mean([v.ln() for v in likelihoods_test[0].values()]),\n",
    "    \"ll_train\": np.mean([v.ln() for v in likelihoods_train[0].values()]),\n",
    "    \"crsp_train\": np.mean(get_pscores(likelihoods_train)),\n",
    "    \"crsp_test\": np.mean(get_pscores(likelihoods_test))\n",
    "}\n",
    "results\n"
   ]
  },
  {
   "cell_type": "markdown",
   "id": "c09fd9aa",
   "metadata": {},
   "source": [
    "Evaluation concept_name (C), org_resource (R), day_of_week (D), seconds_since_midnight (S), concept_name_count (CC), org_resource_count (RC)"
   ]
  },
  {
   "cell_type": "code",
   "execution_count": 38,
   "id": "323e4ccd",
   "metadata": {},
   "outputs": [
    {
     "name": "stderr",
     "output_type": "stream",
     "text": [
      "100%|██████████| 358/358 [00:00<00:00, 392.72it/s]\n",
      "100%|██████████| 358/358 [00:04<00:00, 75.99it/s]\n",
      "100%|██████████| 358/358 [00:02<00:00, 122.90it/s]\n",
      "100%|██████████| 1444/1444 [00:01<00:00, 1081.92it/s]\n",
      "100%|██████████| 1444/1444 [00:06<00:00, 227.96it/s]\n",
      "100%|██████████| 1444/1444 [00:03<00:00, 379.76it/s]\n"
     ]
    },
    {
     "data": {
      "text/plain": [
       "{'ll_test': Decimal('-Infinity'),\n",
       " 'll_train': Decimal('-Infinity'),\n",
       " 'crsp_train': np.float64(44080.564439001835),\n",
       " 'crsp_test': np.float64(42863.00565819075)}"
      ]
     },
     "execution_count": 38,
     "metadata": {},
     "output_type": "execute_result"
    }
   ],
   "source": [
    "train_event_log = pd.read_csv(\"../../../data/AR/predictions_logno/train_CRDSCCRC.csv\", parse_dates=[\"time:timestamp_start\", \"time:timestamp_complete\"])\n",
    "test_event_log = pd.read_csv(\"../../../data/AR/predictions_logno/test_CRDSCCRC.csv\", parse_dates=[\"time:timestamp_start\", \"time:timestamp_complete\"])\n",
    "\n",
    "evaluator_train = ConductEvaluation(\n",
    "    trained_model=trained_model,\n",
    "    sample_model_type=sample_model,\n",
    "    sample_model_kwargs=sample_model_kwargs,\n",
    "    event_log=train_event_log,\n",
    "    n=N,\n",
    "    n_processes=n_processes\n",
    ")\n",
    "\n",
    "evaluator_test = ConductEvaluation(\n",
    "    trained_model=trained_model,\n",
    "    sample_model_type=sample_model,\n",
    "    sample_model_kwargs=sample_model_kwargs,\n",
    "    event_log=test_event_log,\n",
    "    n=N,\n",
    "    n_processes=n_processes\n",
    ")\n",
    "likelihoods_test = evaluator_test.sample_cases(False, True)\n",
    "likelihoods_train = evaluator_train.sample_cases(False, True)\n",
    "\n",
    "results = {\n",
    "    \"ll_test\": np.mean([v.ln() for v in likelihoods_test[0].values()]),\n",
    "    \"ll_train\": np.mean([v.ln() for v in likelihoods_train[0].values()]),\n",
    "    \"crsp_train\": np.mean(get_pscores(likelihoods_train)),\n",
    "    \"crsp_test\": np.mean(get_pscores(likelihoods_test))\n",
    "}\n",
    "results\n"
   ]
  }
 ],
 "metadata": {
  "kernelspec": {
   "display_name": "Python (myenv)",
   "language": "python",
   "name": "myenv"
  },
  "language_info": {
   "codemirror_mode": {
    "name": "ipython",
    "version": 3
   },
   "file_extension": ".py",
   "mimetype": "text/x-python",
   "name": "python",
   "nbconvert_exporter": "python",
   "pygments_lexer": "ipython3",
   "version": "3.12.7"
  }
 },
 "nbformat": 4,
 "nbformat_minor": 5
}
