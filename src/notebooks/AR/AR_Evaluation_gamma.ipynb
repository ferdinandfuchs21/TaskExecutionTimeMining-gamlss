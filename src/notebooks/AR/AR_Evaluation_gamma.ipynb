{
 "cells": [
  {
   "cell_type": "code",
   "execution_count": 1,
   "id": "61599282-3bd8-46fd-a995-d1b172f58433",
   "metadata": {},
   "outputs": [],
   "source": [
    "import numpy as np\n",
    "import sys\n",
    "import CRPS.CRPS as pscore\n",
    "\n",
    "sys.path.append('../../Evaluation/')\n",
    "from conduct_evaluation import ConductEvaluation\n",
    "\n",
    "from normal_evaluation.gamlss_evaluation import *\n",
    "\n",
    "import pandas as pd"
   ]
  },
  {
   "cell_type": "code",
   "execution_count": 2,
   "id": "de1647e8",
   "metadata": {},
   "outputs": [],
   "source": [
    "sample_model = SampleOutcomes_GAMLSS_Gamma\n",
    "trained_model = None\n",
    "sample_model_kwargs = {}\n",
    "N = 10000\n",
    "n_processes = 50\n",
    "\n",
    "get_pscores = lambda likelihoods : [pscore(likelihoods[1][i], likelihoods[2][k][3]).compute()[0] for i, k in enumerate(list(likelihoods[0].keys()))]"
   ]
  },
  {
   "cell_type": "markdown",
   "id": "a02332e5",
   "metadata": {},
   "source": [
    "Evaluation concept_name (C)"
   ]
  },
  {
   "cell_type": "code",
   "execution_count": 3,
   "id": "c715c7ab",
   "metadata": {},
   "outputs": [
    {
     "name": "stderr",
     "output_type": "stream",
     "text": [
      "100%|██████████| 358/358 [00:00<00:00, 360.08it/s]\n",
      "100%|██████████| 358/358 [05:10<00:00,  1.15it/s]  \n",
      "100%|██████████| 358/358 [05:22<00:00,  1.11it/s]  \n",
      "100%|██████████| 1444/1444 [00:01<00:00, 1219.45it/s]\n",
      "100%|██████████| 1444/1444 [08:43<00:00,  2.76it/s]  \n",
      "100%|██████████| 1444/1444 [10:13<00:00,  2.35it/s]  \n"
     ]
    },
    {
     "data": {
      "text/plain": [
       "{'ll_test': Decimal('-Infinity'),\n",
       " 'll_train': Decimal('-Infinity'),\n",
       " 'crsp_train': np.float64(14044.533125662145),\n",
       " 'crsp_test': np.float64(14169.198809925643)}"
      ]
     },
     "execution_count": 3,
     "metadata": {},
     "output_type": "execute_result"
    }
   ],
   "source": [
    "train_event_log = pd.read_csv(\"../../../data/AR/predictions_gamma/train_C.csv\", parse_dates=[\"time:timestamp_start\", \"time:timestamp_complete\"])\n",
    "test_event_log = pd.read_csv(\"../../../data/AR/predictions_gamma/test_C.csv\", parse_dates=[\"time:timestamp_start\", \"time:timestamp_complete\"])\n",
    "\n",
    "\n",
    "evaluator_train = ConductEvaluation(\n",
    "    trained_model=trained_model,\n",
    "    sample_model_type=sample_model,\n",
    "    sample_model_kwargs=sample_model_kwargs,\n",
    "    event_log=train_event_log,\n",
    "    n=N,\n",
    "    n_processes=n_processes\n",
    ")\n",
    "\n",
    "evaluator_test = ConductEvaluation(\n",
    "    trained_model=trained_model,\n",
    "    sample_model_type=sample_model,\n",
    "    sample_model_kwargs=sample_model_kwargs,\n",
    "    event_log=test_event_log,\n",
    "    n=N,\n",
    "    n_processes=n_processes\n",
    ")\n",
    "likelihoods_test = evaluator_test.sample_cases(False, True)\n",
    "likelihoods_train = evaluator_train.sample_cases(False, True)\n",
    "\n",
    "results = {\n",
    "    \"ll_test\": np.mean([v.ln() for v in likelihoods_test[0].values()]),\n",
    "    \"ll_train\": np.mean([v.ln() for v in likelihoods_train[0].values()]),\n",
    "    \"crsp_train\": np.mean(get_pscores(likelihoods_train)),\n",
    "    \"crsp_test\": np.mean(get_pscores(likelihoods_test))\n",
    "}\n",
    "results\n"
   ]
  },
  {
   "cell_type": "markdown",
   "id": "c4fa0596",
   "metadata": {},
   "source": [
    "Evaluation org_resource (R)"
   ]
  },
  {
   "cell_type": "code",
   "execution_count": 4,
   "id": "a4ab3008",
   "metadata": {},
   "outputs": [
    {
     "name": "stderr",
     "output_type": "stream",
     "text": [
      "100%|██████████| 358/358 [00:01<00:00, 298.14it/s]\n",
      "100%|██████████| 358/358 [05:34<00:00,  1.07it/s]  \n",
      "100%|██████████| 358/358 [02:30<00:00,  2.37it/s]  \n",
      "100%|██████████| 1444/1444 [00:01<00:00, 873.08it/s]\n",
      "100%|██████████| 1444/1444 [08:05<00:00,  2.97it/s]  \n",
      "100%|██████████| 1444/1444 [03:58<00:00,  6.06it/s] \n"
     ]
    },
    {
     "data": {
      "text/plain": [
       "{'ll_test': Decimal('-Infinity'),\n",
       " 'll_train': Decimal('-Infinity'),\n",
       " 'crsp_train': np.float64(44080.09022849875),\n",
       " 'crsp_test': np.float64(42862.53524988159)}"
      ]
     },
     "execution_count": 4,
     "metadata": {},
     "output_type": "execute_result"
    }
   ],
   "source": [
    "train_event_log = pd.read_csv(\"../../../data/AR/predictions_logno/train_R.csv\", parse_dates=[\"time:timestamp_start\", \"time:timestamp_complete\"])\n",
    "test_event_log = pd.read_csv(\"../../../data/AR/predictions_logno/test_R.csv\", parse_dates=[\"time:timestamp_start\", \"time:timestamp_complete\"])\n",
    "\n",
    "evaluator_train = ConductEvaluation(\n",
    "    trained_model=trained_model,\n",
    "    sample_model_type=sample_model,\n",
    "    sample_model_kwargs=sample_model_kwargs,\n",
    "    event_log=train_event_log,\n",
    "    n=N,\n",
    "    n_processes=n_processes\n",
    ")\n",
    "\n",
    "evaluator_test = ConductEvaluation(\n",
    "    trained_model=trained_model,\n",
    "    sample_model_type=sample_model,\n",
    "    sample_model_kwargs=sample_model_kwargs,\n",
    "    event_log=test_event_log,\n",
    "    n=N,\n",
    "    n_processes=n_processes\n",
    ")\n",
    "likelihoods_test = evaluator_test.sample_cases(False, True)\n",
    "likelihoods_train = evaluator_train.sample_cases(False, True)\n",
    "\n",
    "results = {\n",
    "    \"ll_test\": np.mean([v.ln() for v in likelihoods_test[0].values()]),\n",
    "    \"ll_train\": np.mean([v.ln() for v in likelihoods_train[0].values()]),\n",
    "    \"crsp_train\": np.mean(get_pscores(likelihoods_train)),\n",
    "    \"crsp_test\": np.mean(get_pscores(likelihoods_test))\n",
    "}\n",
    "results\n"
   ]
  },
  {
   "cell_type": "markdown",
   "id": "5708b2d9",
   "metadata": {},
   "source": [
    "Evaluation concept_name (C) & org_resource (R)"
   ]
  },
  {
   "cell_type": "code",
   "execution_count": 5,
   "id": "a7c1e9ff",
   "metadata": {},
   "outputs": [
    {
     "name": "stderr",
     "output_type": "stream",
     "text": [
      "100%|██████████| 358/358 [00:01<00:00, 317.11it/s]\n",
      "100%|██████████| 358/358 [05:24<00:00,  1.10it/s]  \n",
      "100%|██████████| 358/358 [00:23<00:00, 15.24it/s]\n",
      "100%|██████████| 1444/1444 [00:01<00:00, 1045.28it/s]\n",
      "100%|██████████| 1444/1444 [06:57<00:00,  3.46it/s]  \n",
      "100%|██████████| 1444/1444 [00:32<00:00, 45.12it/s]\n"
     ]
    },
    {
     "data": {
      "text/plain": [
       "{'ll_test': Decimal('-Infinity'),\n",
       " 'll_train': Decimal('-Infinity'),\n",
       " 'crsp_train': np.float64(44080.5264960619),\n",
       " 'crsp_test': np.float64(42862.97846690118)}"
      ]
     },
     "execution_count": 5,
     "metadata": {},
     "output_type": "execute_result"
    }
   ],
   "source": [
    "train_event_log = pd.read_csv(\"../../../data/AR/predictions_logno/train_CR.csv\", parse_dates=[\"time:timestamp_start\", \"time:timestamp_complete\"])\n",
    "test_event_log = pd.read_csv(\"../../../data/AR/predictions_logno/test_CR.csv\", parse_dates=[\"time:timestamp_start\", \"time:timestamp_complete\"])\n",
    "\n",
    "evaluator_train = ConductEvaluation(\n",
    "    trained_model=trained_model,\n",
    "    sample_model_type=sample_model,\n",
    "    sample_model_kwargs=sample_model_kwargs,\n",
    "    event_log=train_event_log,\n",
    "    n=N,\n",
    "    n_processes=n_processes\n",
    ")\n",
    "\n",
    "evaluator_test = ConductEvaluation(\n",
    "    trained_model=trained_model,\n",
    "    sample_model_type=sample_model,\n",
    "    sample_model_kwargs=sample_model_kwargs,\n",
    "    event_log=test_event_log,\n",
    "    n=N,\n",
    "    n_processes=n_processes\n",
    ")\n",
    "likelihoods_test = evaluator_test.sample_cases(False, True)\n",
    "likelihoods_train = evaluator_train.sample_cases(False, True)\n",
    "\n",
    "results = {\n",
    "    \"ll_test\": np.mean([v.ln() for v in likelihoods_test[0].values()]),\n",
    "    \"ll_train\": np.mean([v.ln() for v in likelihoods_train[0].values()]),\n",
    "    \"crsp_train\": np.mean(get_pscores(likelihoods_train)),\n",
    "    \"crsp_test\": np.mean(get_pscores(likelihoods_test))\n",
    "}\n",
    "results\n"
   ]
  },
  {
   "cell_type": "markdown",
   "id": "14017475",
   "metadata": {},
   "source": [
    "Evaluation concept_name (C), org_resource (R), day_of_week (D)"
   ]
  },
  {
   "cell_type": "code",
   "execution_count": 6,
   "id": "91ce0d9e",
   "metadata": {},
   "outputs": [
    {
     "name": "stderr",
     "output_type": "stream",
     "text": [
      "100%|██████████| 358/358 [00:00<00:00, 363.50it/s]\n",
      "100%|██████████| 358/358 [04:43<00:00,  1.26it/s]  \n",
      "100%|██████████| 358/358 [00:21<00:00, 16.42it/s]\n",
      "100%|██████████| 1444/1444 [00:01<00:00, 1391.36it/s]\n",
      "100%|██████████| 1444/1444 [06:43<00:00,  3.58it/s]  \n",
      "100%|██████████| 1444/1444 [00:29<00:00, 49.57it/s]\n"
     ]
    },
    {
     "data": {
      "text/plain": [
       "{'ll_test': Decimal('-Infinity'),\n",
       " 'll_train': Decimal('-Infinity'),\n",
       " 'crsp_train': np.float64(44080.52686417964),\n",
       " 'crsp_test': np.float64(42862.98192932048)}"
      ]
     },
     "execution_count": 6,
     "metadata": {},
     "output_type": "execute_result"
    }
   ],
   "source": [
    "train_event_log = pd.read_csv(\"../../../data/AR/predictions_logno/train_CRD.csv\", parse_dates=[\"time:timestamp_start\", \"time:timestamp_complete\"])\n",
    "test_event_log = pd.read_csv(\"../../../data/AR/predictions_logno/test_CRD.csv\", parse_dates=[\"time:timestamp_start\", \"time:timestamp_complete\"])\n",
    "\n",
    "evaluator_train = ConductEvaluation(\n",
    "    trained_model=trained_model,\n",
    "    sample_model_type=sample_model,\n",
    "    sample_model_kwargs=sample_model_kwargs,\n",
    "    event_log=train_event_log,\n",
    "    n=N,\n",
    "    n_processes=n_processes\n",
    ")\n",
    "\n",
    "evaluator_test = ConductEvaluation(\n",
    "    trained_model=trained_model,\n",
    "    sample_model_type=sample_model,\n",
    "    sample_model_kwargs=sample_model_kwargs,\n",
    "    event_log=test_event_log,\n",
    "    n=N,\n",
    "    n_processes=n_processes\n",
    ")\n",
    "likelihoods_test = evaluator_test.sample_cases(False, True)\n",
    "likelihoods_train = evaluator_train.sample_cases(False, True)\n",
    "\n",
    "results = {\n",
    "    \"ll_test\": np.mean([v.ln() for v in likelihoods_test[0].values()]),\n",
    "    \"ll_train\": np.mean([v.ln() for v in likelihoods_train[0].values()]),\n",
    "    \"crsp_train\": np.mean(get_pscores(likelihoods_train)),\n",
    "    \"crsp_test\": np.mean(get_pscores(likelihoods_test))\n",
    "}\n",
    "results\n",
    "\n"
   ]
  },
  {
   "cell_type": "markdown",
   "id": "4ef1bd19",
   "metadata": {},
   "source": [
    "Evaluation concept_name (C), org_resource (R), day_of_week (D), seconds_since_midnight (S)"
   ]
  },
  {
   "cell_type": "code",
   "execution_count": 7,
   "id": "91e8a137",
   "metadata": {},
   "outputs": [
    {
     "name": "stderr",
     "output_type": "stream",
     "text": [
      "100%|██████████| 358/358 [00:01<00:00, 316.94it/s]\n",
      "100%|██████████| 358/358 [04:51<00:00,  1.23it/s]  \n",
      "100%|██████████| 358/358 [00:20<00:00, 17.62it/s]\n",
      "100%|██████████| 1444/1444 [00:01<00:00, 893.34it/s]\n",
      "100%|██████████| 1444/1444 [07:16<00:00,  3.31it/s]  \n",
      "100%|██████████| 1444/1444 [00:28<00:00, 50.03it/s]\n"
     ]
    },
    {
     "data": {
      "text/plain": [
       "{'ll_test': Decimal('-Infinity'),\n",
       " 'll_train': Decimal('-Infinity'),\n",
       " 'crsp_train': np.float64(44080.54790958397),\n",
       " 'crsp_test': np.float64(42862.998752745974)}"
      ]
     },
     "execution_count": 7,
     "metadata": {},
     "output_type": "execute_result"
    }
   ],
   "source": [
    "train_event_log = pd.read_csv(\"../../../data/AR/predictions_logno/train_CRDS.csv\", parse_dates=[\"time:timestamp_start\", \"time:timestamp_complete\"])\n",
    "test_event_log = pd.read_csv(\"../../../data/AR/predictions_logno/test_CRDS.csv\", parse_dates=[\"time:timestamp_start\", \"time:timestamp_complete\"])\n",
    "\n",
    "evaluator_train = ConductEvaluation(\n",
    "    trained_model=trained_model,\n",
    "    sample_model_type=sample_model,\n",
    "    sample_model_kwargs=sample_model_kwargs,\n",
    "    event_log=train_event_log,\n",
    "    n=N,\n",
    "    n_processes=n_processes\n",
    ")\n",
    "\n",
    "evaluator_test = ConductEvaluation(\n",
    "    trained_model=trained_model,\n",
    "    sample_model_type=sample_model,\n",
    "    sample_model_kwargs=sample_model_kwargs,\n",
    "    event_log=test_event_log,\n",
    "    n=N,\n",
    "    n_processes=n_processes\n",
    ")\n",
    "likelihoods_test = evaluator_test.sample_cases(False, True)\n",
    "likelihoods_train = evaluator_train.sample_cases(False, True)\n",
    "\n",
    "results = {\n",
    "    \"ll_test\": np.mean([v.ln() for v in likelihoods_test[0].values()]),\n",
    "    \"ll_train\": np.mean([v.ln() for v in likelihoods_train[0].values()]),\n",
    "    \"crsp_train\": np.mean(get_pscores(likelihoods_train)),\n",
    "    \"crsp_test\": np.mean(get_pscores(likelihoods_test))\n",
    "}\n",
    "results\n"
   ]
  },
  {
   "cell_type": "markdown",
   "id": "7f08631b",
   "metadata": {},
   "source": [
    "Evaluation concept_name (C), org_resource (R), day_of_week (D), seconds_since_midnight (S), concept_name_count (CC)"
   ]
  },
  {
   "cell_type": "code",
   "execution_count": 8,
   "id": "640487f7",
   "metadata": {},
   "outputs": [
    {
     "name": "stderr",
     "output_type": "stream",
     "text": [
      "100%|██████████| 358/358 [00:00<00:00, 362.29it/s]\n",
      "100%|██████████| 358/358 [04:58<00:00,  1.20it/s]  \n",
      "100%|██████████| 358/358 [00:18<00:00, 19.72it/s]\n",
      "100%|██████████| 1444/1444 [00:01<00:00, 1143.11it/s]\n",
      "100%|██████████| 1444/1444 [06:48<00:00,  3.54it/s]  \n",
      "100%|██████████| 1444/1444 [00:26<00:00, 53.93it/s]\n"
     ]
    },
    {
     "data": {
      "text/plain": [
       "{'ll_test': Decimal('-Infinity'),\n",
       " 'll_train': Decimal('-Infinity'),\n",
       " 'crsp_train': np.float64(44080.56322521047),\n",
       " 'crsp_test': np.float64(42863.01360879907)}"
      ]
     },
     "execution_count": 8,
     "metadata": {},
     "output_type": "execute_result"
    }
   ],
   "source": [
    "train_event_log = pd.read_csv(\"../../../data/AR/predictions_logno/train_CRDSCC.csv\", parse_dates=[\"time:timestamp_start\", \"time:timestamp_complete\"])\n",
    "test_event_log = pd.read_csv(\"../../../data/AR/predictions_logno/test_CRDSCC.csv\", parse_dates=[\"time:timestamp_start\", \"time:timestamp_complete\"])\n",
    "\n",
    "evaluator_train = ConductEvaluation(\n",
    "    trained_model=trained_model,\n",
    "    sample_model_type=sample_model,\n",
    "    sample_model_kwargs=sample_model_kwargs,\n",
    "    event_log=train_event_log,\n",
    "    n=N,\n",
    "    n_processes=n_processes\n",
    ")\n",
    "\n",
    "evaluator_test = ConductEvaluation(\n",
    "    trained_model=trained_model,\n",
    "    sample_model_type=sample_model,\n",
    "    sample_model_kwargs=sample_model_kwargs,\n",
    "    event_log=test_event_log,\n",
    "    n=N,\n",
    "    n_processes=n_processes\n",
    ")\n",
    "likelihoods_test = evaluator_test.sample_cases(False, True)\n",
    "likelihoods_train = evaluator_train.sample_cases(False, True)\n",
    "\n",
    "results = {\n",
    "    \"ll_test\": np.mean([v.ln() for v in likelihoods_test[0].values()]),\n",
    "    \"ll_train\": np.mean([v.ln() for v in likelihoods_train[0].values()]),\n",
    "    \"crsp_train\": np.mean(get_pscores(likelihoods_train)),\n",
    "    \"crsp_test\": np.mean(get_pscores(likelihoods_test))\n",
    "}\n",
    "results\n"
   ]
  },
  {
   "cell_type": "markdown",
   "id": "c09fd9aa",
   "metadata": {},
   "source": [
    "Evaluation concept_name (C), org_resource (R), day_of_week (D), seconds_since_midnight (S), concept_name_count (CC), org_resource_count (RC)"
   ]
  },
  {
   "cell_type": "code",
   "execution_count": 9,
   "id": "323e4ccd",
   "metadata": {},
   "outputs": [
    {
     "name": "stderr",
     "output_type": "stream",
     "text": [
      "100%|██████████| 358/358 [00:00<00:00, 360.25it/s]\n",
      "100%|██████████| 358/358 [04:40<00:00,  1.27it/s]  \n",
      "100%|██████████| 358/358 [00:17<00:00, 20.07it/s]\n",
      "100%|██████████| 1444/1444 [00:01<00:00, 1200.91it/s]\n",
      "100%|██████████| 1444/1444 [07:03<00:00,  3.41it/s]  \n",
      "100%|██████████| 1444/1444 [00:27<00:00, 52.71it/s]\n"
     ]
    },
    {
     "data": {
      "text/plain": [
       "{'ll_test': Decimal('-Infinity'),\n",
       " 'll_train': Decimal('-Infinity'),\n",
       " 'crsp_train': np.float64(44080.56309206444),\n",
       " 'crsp_test': np.float64(42863.01424323531)}"
      ]
     },
     "execution_count": 9,
     "metadata": {},
     "output_type": "execute_result"
    }
   ],
   "source": [
    "train_event_log = pd.read_csv(\"../../../data/AR/predictions_logno/train_CRDSCCRC.csv\", parse_dates=[\"time:timestamp_start\", \"time:timestamp_complete\"])\n",
    "test_event_log = pd.read_csv(\"../../../data/AR/predictions_logno/test_CRDSCCRC.csv\", parse_dates=[\"time:timestamp_start\", \"time:timestamp_complete\"])\n",
    "\n",
    "evaluator_train = ConductEvaluation(\n",
    "    trained_model=trained_model,\n",
    "    sample_model_type=sample_model,\n",
    "    sample_model_kwargs=sample_model_kwargs,\n",
    "    event_log=train_event_log,\n",
    "    n=N,\n",
    "    n_processes=n_processes\n",
    ")\n",
    "\n",
    "evaluator_test = ConductEvaluation(\n",
    "    trained_model=trained_model,\n",
    "    sample_model_type=sample_model,\n",
    "    sample_model_kwargs=sample_model_kwargs,\n",
    "    event_log=test_event_log,\n",
    "    n=N,\n",
    "    n_processes=n_processes\n",
    ")\n",
    "likelihoods_test = evaluator_test.sample_cases(False, True)\n",
    "likelihoods_train = evaluator_train.sample_cases(False, True)\n",
    "\n",
    "results = {\n",
    "    \"ll_test\": np.mean([v.ln() for v in likelihoods_test[0].values()]),\n",
    "    \"ll_train\": np.mean([v.ln() for v in likelihoods_train[0].values()]),\n",
    "    \"crsp_train\": np.mean(get_pscores(likelihoods_train)),\n",
    "    \"crsp_test\": np.mean(get_pscores(likelihoods_test))\n",
    "}\n",
    "results\n"
   ]
  }
 ],
 "metadata": {
  "kernelspec": {
   "display_name": "Python (myenv)",
   "language": "python",
   "name": "myenv"
  },
  "language_info": {
   "codemirror_mode": {
    "name": "ipython",
    "version": 3
   },
   "file_extension": ".py",
   "mimetype": "text/x-python",
   "name": "python",
   "nbconvert_exporter": "python",
   "pygments_lexer": "ipython3",
   "version": "3.12.7"
  }
 },
 "nbformat": 4,
 "nbformat_minor": 5
}
