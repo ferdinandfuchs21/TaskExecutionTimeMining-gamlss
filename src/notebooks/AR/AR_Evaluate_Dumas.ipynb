{
 "cells": [
  {
   "cell_type": "code",
   "execution_count": 38,
   "id": "5967c5de-b76e-47de-ba84-ce4a0f1a117f",
   "metadata": {},
   "outputs": [],
   "source": [
    "import numpy as np\n",
    "import pandas\n",
    "import pm4py\n",
    "from matplotlib import pyplot as plt\n",
    "from sklearn.mixture import GaussianMixture\n",
    "import scipy.stats as stats\n",
    "import ot\n",
    "import os\n",
    "from tqdm import tqdm\n",
    "import collections\n",
    "import matplotlib.dates as md\n",
    "import importlib\n",
    "import pickle\n",
    "import random\n",
    "import CRPS.CRPS as pscore\n",
    "\n",
    "\n",
    "pandas.set_option('display.max_columns', None)\n",
    "#pandas.set_option('display.max_rows', None)\n",
    "\n",
    "\n",
    "import sys\n",
    "sys.path.append('../../TaskExecutionTimeMining/')\n",
    "from event_log_transformer import *\n",
    "\n",
    "#sys.path.append('../../Evaluation')\n",
    "sys.path.append('../../Evaluation/')\n",
    "from normal_evaluation.dumas_evaluation import *"
   ]
  },
  {
   "cell_type": "code",
   "execution_count": 39,
   "id": "fcbfb543-77a9-4ab6-91a6-21677681cdb6",
   "metadata": {
    "execution": {
     "iopub.execute_input": "2024-11-14T17:40:42.080092Z",
     "iopub.status.busy": "2024-11-14T17:40:42.079877Z",
     "iopub.status.idle": "2024-11-14T17:40:42.087416Z",
     "shell.execute_reply": "2024-11-14T17:40:42.087148Z"
    }
   },
   "outputs": [],
   "source": [
    "import sys\n",
    "sys.path.append('/Users/ferdinandfuchs/Documents/pix-framework-main/src')\n",
    "\n",
    "with open('./dumas_model.pickle', 'rb') as f:\n",
    "    dumas_model = pickle.load(f)\n",
    "\n",
    "with open('./dumas_model_no_resource.pickle', 'rb') as f:\n",
    "    dumas_model_no_resource = pickle.load(f)"
   ]
  },
  {
   "cell_type": "code",
   "execution_count": 40,
   "id": "e519eb9e-c059-4deb-9268-24a95190f396",
   "metadata": {
    "execution": {
     "iopub.execute_input": "2024-11-14T17:40:42.088511Z",
     "iopub.status.busy": "2024-11-14T17:40:42.088403Z",
     "iopub.status.idle": "2024-11-14T17:40:42.091397Z",
     "shell.execute_reply": "2024-11-14T17:40:42.091170Z"
    }
   },
   "outputs": [],
   "source": [
    "import conduct_evaluation\n",
    "get_pscores = lambda likelihoods : [pscore(likelihoods[1][i], likelihoods[2][k][3]).compute()[0] for i, k in enumerate(list(likelihoods[0].keys()))]\n",
    "\n",
    "N = 10000\n",
    "n_processes = 50"
   ]
  },
  {
   "cell_type": "code",
   "execution_count": 41,
   "id": "92cd206e-8fb5-4ddd-aef2-33aa0a4049f7",
   "metadata": {
    "execution": {
     "iopub.execute_input": "2024-11-14T17:40:42.092415Z",
     "iopub.status.busy": "2024-11-14T17:40:42.092239Z",
     "iopub.status.idle": "2024-11-14T17:40:42.095624Z",
     "shell.execute_reply": "2024-11-14T17:40:42.095384Z"
    }
   },
   "outputs": [],
   "source": [
    "with open('../../../data/AR/transformed_event_logs/AR_test.pickle', 'rb') as f:\n",
    "    test_data = pickle.load(f)\n",
    "\n",
    "with open('../../../data/AR/transformed_event_logs/AR_train.pickle', 'rb') as f:\n",
    "    train_data = pickle.load(f)"
   ]
  },
  {
   "cell_type": "code",
   "execution_count": 42,
   "id": "0c26ffd5-b97d-4f60-8ad2-7875ca7d1755",
   "metadata": {
    "execution": {
     "iopub.execute_input": "2024-11-14T17:40:42.096719Z",
     "iopub.status.busy": "2024-11-14T17:40:42.096624Z",
     "iopub.status.idle": "2024-11-14T17:48:15.798231Z",
     "shell.execute_reply": "2024-11-14T17:48:15.797754Z"
    }
   },
   "outputs": [
    {
     "name": "stderr",
     "output_type": "stream",
     "text": [
      "100%|██████████| 1444/1444 [00:01<00:00, 1173.55it/s]\n",
      "100%|██████████| 1444/1444 [15:30<00:00,  1.55it/s]  \n",
      "100%|██████████| 1444/1444 [15:21<00:00,  1.57it/s]  \n"
     ]
    }
   ],
   "source": [
    "evaluator = conduct_evaluation.ConductEvaluation(dumas_model, SampleOutcomes_Dumas_Normal,\n",
    "                                                 {\n",
    "                                                        'activity_key' : 'concept:name',\n",
    "                                                        'resource_key' : 'org:resource',\n",
    "                                                 },\n",
    "                                     test_data, n=N, n_processes=n_processes)\n",
    "likelihoods_test_A_R = evaluator.sample_cases(plot_cases=False, multiprocessing=True)"
   ]
  },
  {
   "cell_type": "code",
   "execution_count": 43,
   "id": "f8842651-6d94-4ef4-b873-aa867a095794",
   "metadata": {
    "execution": {
     "iopub.execute_input": "2024-11-14T17:48:15.800399Z",
     "iopub.status.busy": "2024-11-14T17:48:15.800236Z",
     "iopub.status.idle": "2024-11-14T17:48:15.831420Z",
     "shell.execute_reply": "2024-11-14T17:48:15.831049Z"
    }
   },
   "outputs": [
    {
     "data": {
      "text/plain": [
       "Decimal('0.3427402611067163443353950571')"
      ]
     },
     "execution_count": 43,
     "metadata": {},
     "output_type": "execute_result"
    }
   ],
   "source": [
    "np.mean([v.ln() for v in likelihoods_test_A_R[0].values()])"
   ]
  },
  {
   "cell_type": "code",
   "execution_count": 44,
   "id": "4b194404-9feb-44a4-b52d-b42ff8c1d411",
   "metadata": {
    "execution": {
     "iopub.execute_input": "2024-11-14T17:48:15.832994Z",
     "iopub.status.busy": "2024-11-14T17:48:15.832858Z",
     "iopub.status.idle": "2024-11-14T17:48:24.606004Z",
     "shell.execute_reply": "2024-11-14T17:48:24.605601Z"
    }
   },
   "outputs": [
    {
     "data": {
      "text/plain": [
       "np.float64(9639.520550033714)"
      ]
     },
     "execution_count": 44,
     "metadata": {},
     "output_type": "execute_result"
    }
   ],
   "source": [
    "np.mean(get_pscores(likelihoods_test_A_R))"
   ]
  },
  {
   "cell_type": "code",
   "execution_count": 45,
   "id": "a6c335c8-a3b6-4229-96b0-32ba12ecb98f",
   "metadata": {
    "execution": {
     "iopub.execute_input": "2024-11-14T17:48:24.612527Z",
     "iopub.status.busy": "2024-11-14T17:48:24.612412Z",
     "iopub.status.idle": "2024-11-14T17:52:14.741433Z",
     "shell.execute_reply": "2024-11-14T17:52:14.740941Z"
    }
   },
   "outputs": [
    {
     "name": "stderr",
     "output_type": "stream",
     "text": [
      "100%|██████████| 1444/1444 [00:01<00:00, 1195.34it/s]\n",
      "100%|██████████| 1444/1444 [18:40<00:00,  1.29it/s]   \n",
      "100%|██████████| 1444/1444 [19:16<00:00,  1.25it/s]   \n"
     ]
    }
   ],
   "source": [
    "evaluator = conduct_evaluation.ConductEvaluation(dumas_model, SampleOutcomes_Dumas_Normal,\n",
    "                                                 {\n",
    "                                                        'activity_key' : 'concept:name',\n",
    "                                                        'resource_key' : 'org:resource',\n",
    "                                                 },\n",
    "                                     train_data, n=N, n_processes=n_processes)\n",
    "likelihoods_train_A_R = evaluator.sample_cases(plot_cases=False, multiprocessing=True)"
   ]
  },
  {
   "cell_type": "code",
   "execution_count": 46,
   "id": "b2b3f039-919a-4fd5-a60a-ebae3f0d1dd1",
   "metadata": {
    "execution": {
     "iopub.execute_input": "2024-11-14T17:52:14.743255Z",
     "iopub.status.busy": "2024-11-14T17:52:14.743069Z",
     "iopub.status.idle": "2024-11-14T17:52:14.759355Z",
     "shell.execute_reply": "2024-11-14T17:52:14.759044Z"
    }
   },
   "outputs": [
    {
     "data": {
      "text/plain": [
       "Decimal('0.3426289219479536107972395932')"
      ]
     },
     "execution_count": 46,
     "metadata": {},
     "output_type": "execute_result"
    }
   ],
   "source": [
    "np.mean([v.ln() for v in likelihoods_train_A_R[0].values()])"
   ]
  },
  {
   "cell_type": "code",
   "execution_count": 47,
   "id": "7b44f947-fcfe-498b-b699-085042e620a1",
   "metadata": {
    "execution": {
     "iopub.execute_input": "2024-11-14T17:52:14.760528Z",
     "iopub.status.busy": "2024-11-14T17:52:14.760336Z",
     "iopub.status.idle": "2024-11-14T17:52:18.863022Z",
     "shell.execute_reply": "2024-11-14T17:52:18.862602Z"
    }
   },
   "outputs": [
    {
     "data": {
      "text/plain": [
       "np.float64(9647.032844911748)"
      ]
     },
     "execution_count": 47,
     "metadata": {},
     "output_type": "execute_result"
    }
   ],
   "source": [
    "np.mean(get_pscores(likelihoods_train_A_R))"
   ]
  },
  {
   "cell_type": "code",
   "execution_count": 48,
   "id": "e3d23977-f2b8-4326-b759-e7097363960c",
   "metadata": {
    "execution": {
     "iopub.execute_input": "2024-11-14T17:52:18.864311Z",
     "iopub.status.busy": "2024-11-14T17:52:18.864179Z",
     "iopub.status.idle": "2024-11-14T18:00:05.515519Z",
     "shell.execute_reply": "2024-11-14T18:00:05.515035Z"
    }
   },
   "outputs": [
    {
     "name": "stderr",
     "output_type": "stream",
     "text": [
      "100%|██████████| 1444/1444 [00:02<00:00, 630.30it/s]\n",
      "100%|██████████| 1444/1444 [22:43<00:00,  1.06it/s]   \n",
      "100%|██████████| 1444/1444 [19:04<00:00,  1.26it/s]   \n"
     ]
    }
   ],
   "source": [
    "evaluator = conduct_evaluation.ConductEvaluation(dumas_model_no_resource, SampleOutcomes_Dumas_Normal,\n",
    "                                                 {\n",
    "                                                        'activity_key' : 'concept:name',\n",
    "                                                        'resource_key' : 'org:resource',\n",
    "                                                 },\n",
    "                                     test_data, n=N, n_processes=n_processes)\n",
    "likelihoods_test_A = evaluator.sample_cases(plot_cases=False, multiprocessing=True)"
   ]
  },
  {
   "cell_type": "code",
   "execution_count": 49,
   "id": "87e982af-5585-43fa-9139-3261b8f408f0",
   "metadata": {
    "execution": {
     "iopub.execute_input": "2024-11-14T18:00:05.517499Z",
     "iopub.status.busy": "2024-11-14T18:00:05.517167Z",
     "iopub.status.idle": "2024-11-14T18:00:05.562051Z",
     "shell.execute_reply": "2024-11-14T18:00:05.561712Z"
    }
   },
   "outputs": [
    {
     "data": {
      "text/plain": [
       "Decimal('0.2938774688581943423922314492')"
      ]
     },
     "execution_count": 49,
     "metadata": {},
     "output_type": "execute_result"
    }
   ],
   "source": [
    "np.mean([v.ln() for v in likelihoods_test_A[0].values()])"
   ]
  },
  {
   "cell_type": "code",
   "execution_count": 50,
   "id": "b9e87451-67a4-4578-b750-a6d991ae31a9",
   "metadata": {
    "execution": {
     "iopub.execute_input": "2024-11-14T18:00:05.563327Z",
     "iopub.status.busy": "2024-11-14T18:00:05.563154Z",
     "iopub.status.idle": "2024-11-14T18:00:13.604040Z",
     "shell.execute_reply": "2024-11-14T18:00:13.603679Z"
    }
   },
   "outputs": [
    {
     "data": {
      "text/plain": [
       "np.float64(9924.319551779192)"
      ]
     },
     "execution_count": 50,
     "metadata": {},
     "output_type": "execute_result"
    }
   ],
   "source": [
    "np.mean(get_pscores(likelihoods_test_A))"
   ]
  },
  {
   "cell_type": "code",
   "execution_count": 51,
   "id": "ccc0f8b2-5e1f-481c-9627-121f372bf7be",
   "metadata": {
    "execution": {
     "iopub.execute_input": "2024-11-14T18:00:13.605530Z",
     "iopub.status.busy": "2024-11-14T18:00:13.605423Z",
     "iopub.status.idle": "2024-11-14T18:04:05.947355Z",
     "shell.execute_reply": "2024-11-14T18:04:05.946746Z"
    }
   },
   "outputs": [
    {
     "name": "stderr",
     "output_type": "stream",
     "text": [
      "100%|██████████| 1444/1444 [00:02<00:00, 651.82it/s]\n",
      "100%|██████████| 1444/1444 [21:25<00:00,  1.12it/s]   \n",
      "100%|██████████| 1444/1444 [22:12<00:00,  1.08it/s]   \n"
     ]
    }
   ],
   "source": [
    "evaluator = conduct_evaluation.ConductEvaluation(dumas_model_no_resource, SampleOutcomes_Dumas_Normal,\n",
    "                                                 {\n",
    "                                                        'activity_key' : 'concept:name',\n",
    "                                                        'resource_key' : 'org:resource',\n",
    "                                                 },\n",
    "                                     train_data, n=N, n_processes=n_processes)\n",
    "likelihoods_train_A = evaluator.sample_cases(plot_cases=False, multiprocessing=True)"
   ]
  },
  {
   "cell_type": "code",
   "execution_count": 52,
   "id": "825fbb46-e0e5-469f-91c8-478a4238dc76",
   "metadata": {
    "execution": {
     "iopub.execute_input": "2024-11-14T18:04:05.949061Z",
     "iopub.status.busy": "2024-11-14T18:04:05.948916Z",
     "iopub.status.idle": "2024-11-14T18:04:05.965017Z",
     "shell.execute_reply": "2024-11-14T18:04:05.964691Z"
    }
   },
   "outputs": [
    {
     "data": {
      "text/plain": [
       "Decimal('0.2743064916039764281648999353')"
      ]
     },
     "execution_count": 52,
     "metadata": {},
     "output_type": "execute_result"
    }
   ],
   "source": [
    "np.mean([v.ln() for v in likelihoods_train_A[0].values()])"
   ]
  },
  {
   "cell_type": "code",
   "execution_count": 53,
   "id": "70964d63-7d24-4456-8d9e-a1c629c2eb8f",
   "metadata": {
    "execution": {
     "iopub.execute_input": "2024-11-14T18:04:05.966164Z",
     "iopub.status.busy": "2024-11-14T18:04:05.966047Z",
     "iopub.status.idle": "2024-11-14T18:04:10.026255Z",
     "shell.execute_reply": "2024-11-14T18:04:10.025844Z"
    }
   },
   "outputs": [
    {
     "data": {
      "text/plain": [
       "np.float64(9927.75764596465)"
      ]
     },
     "execution_count": 53,
     "metadata": {},
     "output_type": "execute_result"
    }
   ],
   "source": [
    "np.mean(get_pscores(likelihoods_train_A))"
   ]
  }
 ],
 "metadata": {
  "kernelspec": {
   "display_name": "BAML_Projects",
   "language": "python",
   "name": "baml_projects"
  },
  "language_info": {
   "codemirror_mode": {
    "name": "ipython",
    "version": 3
   },
   "file_extension": ".py",
   "mimetype": "text/x-python",
   "name": "python",
   "nbconvert_exporter": "python",
   "pygments_lexer": "ipython3",
   "version": "3.12.7"
  }
 },
 "nbformat": 4,
 "nbformat_minor": 5
}
