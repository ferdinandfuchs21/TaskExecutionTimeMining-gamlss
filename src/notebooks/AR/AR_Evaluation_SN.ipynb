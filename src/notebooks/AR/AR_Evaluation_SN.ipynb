{
 "cells": [
  {
   "cell_type": "code",
   "execution_count": 1,
   "id": "61599282-3bd8-46fd-a995-d1b172f58433",
   "metadata": {},
   "outputs": [],
   "source": [
    "import numpy as np\n",
    "import sys\n",
    "import CRPS.CRPS as pscore\n",
    "\n",
    "sys.path.append('../../Evaluation/')\n",
    "from conduct_evaluation import ConductEvaluation\n",
    "\n",
    "from normal_evaluation.gamlss_evaluation import SampleOutcomes_GAMLSS_SN1\n",
    "\n",
    "import pandas as pd"
   ]
  },
  {
   "cell_type": "code",
   "execution_count": 2,
   "id": "de1647e8",
   "metadata": {},
   "outputs": [],
   "source": [
    "sample_model = SampleOutcomes_GAMLSS_SN1\n",
    "trained_model = None\n",
    "sample_model_kwargs = {}\n",
    "N = 10000\n",
    "n_processes = 50\n",
    "\n",
    "get_pscores = lambda likelihoods : [pscore(likelihoods[1][i], likelihoods[2][k][3]).compute()[0] for i, k in enumerate(list(likelihoods[0].keys()))]"
   ]
  },
  {
   "cell_type": "markdown",
   "id": "a02332e5",
   "metadata": {},
   "source": [
    "Evaluation concept_name (C)"
   ]
  },
  {
   "cell_type": "code",
   "execution_count": null,
   "id": "c715c7ab",
   "metadata": {},
   "outputs": [
    {
     "name": "stderr",
     "output_type": "stream",
     "text": [
      "100%|██████████| 358/358 [00:00<00:00, 377.60it/s]\n",
      "100%|██████████| 358/358 [6:39:33<00:00, 66.97s/it]      \n",
      "100%|██████████| 358/358 [27:45<00:00,  4.65s/it]    \n",
      "100%|██████████| 1444/1444 [00:01<00:00, 1164.61it/s]\n",
      "100%|██████████| 1444/1444 [1:59:49<00:00,  4.98s/it]    \n",
      "100%|██████████| 1444/1444 [11:56<00:00,  2.02it/s]  \n"
     ]
    }
   ],
   "source": [
    "train_event_log = pd.read_csv(\"../../../data/AR/predictions_SN/train_C.csv\", parse_dates=[\"time:timestamp_start\", \"time:timestamp_complete\"])\n",
    "test_event_log = pd.read_csv(\"../../../data/AR/predictions_SN/test_C.csv\", parse_dates=[\"time:timestamp_start\", \"time:timestamp_complete\"])\n",
    "\n",
    "evaluator_train = ConductEvaluation(\n",
    "    trained_model=trained_model,\n",
    "    sample_model_type=sample_model,\n",
    "    sample_model_kwargs=sample_model_kwargs,\n",
    "    event_log=train_event_log,\n",
    "    n=N,\n",
    "    n_processes=n_processes\n",
    ")\n",
    "\n",
    "evaluator_test = ConductEvaluation(\n",
    "    trained_model=trained_model,\n",
    "    sample_model_type=sample_model,\n",
    "    sample_model_kwargs=sample_model_kwargs,\n",
    "    event_log=test_event_log,\n",
    "    n=N,\n",
    "    n_processes=n_processes\n",
    ")\n",
    "likelihoods_test = evaluator_test.sample_cases(False, True)\n",
    "likelihoods_train = evaluator_train.sample_cases(False, True)\n",
    "\n",
    "ll_test_C = np.mean([v.ln() for v in likelihoods_test[0].values()])\n",
    "ll_train_C = np.mean([v.ln() for v in likelihoods_train[0].values()])\n",
    "crsp_train_C = np.mean(get_pscores(likelihoods_train))\n",
    "crsp_test_C = np.mean(get_pscores(likelihoods_test))\n"
   ]
  },
  {
   "cell_type": "markdown",
   "id": "c4fa0596",
   "metadata": {},
   "source": [
    "Evaluation org_resource (R)"
   ]
  },
  {
   "cell_type": "code",
   "execution_count": null,
   "id": "a4ab3008",
   "metadata": {},
   "outputs": [
    {
     "name": "stderr",
     "output_type": "stream",
     "text": [
      "100%|██████████| 358/358 [00:01<00:00, 347.16it/s]\n",
      "100%|██████████| 358/358 [1:01:32<00:00, 10.31s/it]    \n",
      "100%|██████████| 358/358 [06:47<00:00,  1.14s/it]  \n",
      "100%|██████████| 1444/1444 [00:01<00:00, 1075.62it/s]\n",
      "100%|██████████| 1444/1444 [1:45:51<00:00,  4.40s/it]    \n",
      "100%|██████████| 1444/1444 [44:23<00:00,  1.84s/it]    \n"
     ]
    }
   ],
   "source": [
    "train_event_log = pd.read_csv(\"../../../data/AR/predictions_SN/train_R.csv\", parse_dates=[\"time:timestamp_start\", \"time:timestamp_complete\"])\n",
    "test_event_log = pd.read_csv(\"../../../data/AR/predictions_SN/test_R.csv\", parse_dates=[\"time:timestamp_start\", \"time:timestamp_complete\"])\n",
    "\n",
    "evaluator_train = ConductEvaluation(\n",
    "    trained_model=trained_model,\n",
    "    sample_model_type=sample_model,\n",
    "    sample_model_kwargs=sample_model_kwargs,\n",
    "    event_log=train_event_log,\n",
    "    n=N,\n",
    "    n_processes=n_processes\n",
    ")\n",
    "\n",
    "evaluator_test = ConductEvaluation(\n",
    "    trained_model=trained_model,\n",
    "    sample_model_type=sample_model,\n",
    "    sample_model_kwargs=sample_model_kwargs,\n",
    "    event_log=test_event_log,\n",
    "    n=N,\n",
    "    n_processes=n_processes\n",
    ")\n",
    "likelihoods_test = evaluator_test.sample_cases(False, True)\n",
    "likelihoods_train = evaluator_train.sample_cases(False, True)\n",
    "\n",
    "ll_test_R = np.mean([v.ln() for v in likelihoods_test[0].values()])\n",
    "ll_train_R = np.mean([v.ln() for v in likelihoods_train[0].values()])\n",
    "crsp_train_R = np.mean(get_pscores(likelihoods_train))\n",
    "crsp_test_R = np.mean(get_pscores(likelihoods_test))\n"
   ]
  },
  {
   "cell_type": "markdown",
   "id": "5708b2d9",
   "metadata": {},
   "source": [
    "Evaluation concept_name (C) & org_resource (R)"
   ]
  },
  {
   "cell_type": "code",
   "execution_count": null,
   "id": "a7c1e9ff",
   "metadata": {},
   "outputs": [
    {
     "name": "stderr",
     "output_type": "stream",
     "text": [
      "100%|██████████| 358/358 [00:01<00:00, 357.97it/s]\n",
      "100%|██████████| 358/358 [2:28:20<00:00, 24.86s/it]    \n",
      "100%|██████████| 358/358 [07:06<00:00,  1.19s/it]  \n",
      "100%|██████████| 1444/1444 [00:01<00:00, 1071.49it/s]\n",
      "100%|██████████| 1444/1444 [1:09:33<00:00,  2.89s/it]    \n",
      "100%|██████████| 1444/1444 [10:16<00:00,  2.34it/s]  \n"
     ]
    }
   ],
   "source": [
    "train_event_log = pd.read_csv(\"../../../data/AR/predictions_SN/train_CR.csv\", parse_dates=[\"time:timestamp_start\", \"time:timestamp_complete\"])\n",
    "test_event_log = pd.read_csv(\"../../../data/AR/predictions_SN/test_CR.csv\", parse_dates=[\"time:timestamp_start\", \"time:timestamp_complete\"])\n",
    "\n",
    "evaluator_train = ConductEvaluation(\n",
    "    trained_model=trained_model,\n",
    "    sample_model_type=sample_model,\n",
    "    sample_model_kwargs=sample_model_kwargs,\n",
    "    event_log=train_event_log,\n",
    "    n=N,\n",
    "    n_processes=n_processes\n",
    ")\n",
    "\n",
    "evaluator_test = ConductEvaluation(\n",
    "    trained_model=trained_model,\n",
    "    sample_model_type=sample_model,\n",
    "    sample_model_kwargs=sample_model_kwargs,\n",
    "    event_log=test_event_log,\n",
    "    n=N,\n",
    "    n_processes=n_processes\n",
    ")\n",
    "likelihoods_test = evaluator_test.sample_cases(False, True)\n",
    "likelihoods_train = evaluator_train.sample_cases(False, True)\n",
    "ll_train_CR = np.mean([v.ln() for v in likelihoods_train[0].values()])\n",
    "ll_test_CR = np.mean([v.ln() for v in likelihoods_test[0].values()])\n",
    "crsp_train_CR = np.mean(get_pscores(likelihoods_train))\n",
    "crsp_test_CR = np.mean(get_pscores(likelihoods_test))\n"
   ]
  },
  {
   "cell_type": "markdown",
   "id": "14017475",
   "metadata": {},
   "source": [
    "Evaluation concept_name (C), org_resource (R), day_of_week (D)"
   ]
  },
  {
   "cell_type": "code",
   "execution_count": 6,
   "id": "91ce0d9e",
   "metadata": {},
   "outputs": [
    {
     "name": "stderr",
     "output_type": "stream",
     "text": [
      "100%|██████████| 358/358 [00:01<00:00, 307.43it/s]\n",
      "100%|██████████| 358/358 [45:25<00:00,  7.61s/it]    \n",
      "100%|██████████| 358/358 [07:06<00:00,  1.19s/it]  \n",
      "100%|██████████| 1444/1444 [00:01<00:00, 1358.70it/s]\n",
      "100%|██████████| 1444/1444 [1:16:06<00:00,  3.16s/it]    \n",
      "100%|██████████| 1444/1444 [10:19<00:00,  2.33it/s]  \n"
     ]
    }
   ],
   "source": [
    "train_event_log = pd.read_csv(\"../../../data/AR/predictions_SN/train_CRD.csv\", parse_dates=[\"time:timestamp_start\", \"time:timestamp_complete\"])\n",
    "test_event_log = pd.read_csv(\"../../../data/AR/predictions_SN/test_CRD.csv\", parse_dates=[\"time:timestamp_start\", \"time:timestamp_complete\"])\n",
    "\n",
    "evaluator_train = ConductEvaluation(\n",
    "    trained_model=trained_model,\n",
    "    sample_model_type=sample_model,\n",
    "    sample_model_kwargs=sample_model_kwargs,\n",
    "    event_log=train_event_log,\n",
    "    n=N,\n",
    "    n_processes=n_processes\n",
    ")\n",
    "\n",
    "evaluator_test = ConductEvaluation(\n",
    "    trained_model=trained_model,\n",
    "    sample_model_type=sample_model,\n",
    "    sample_model_kwargs=sample_model_kwargs,\n",
    "    event_log=test_event_log,\n",
    "    n=N,\n",
    "    n_processes=n_processes\n",
    ")\n",
    "likelihoods_test = evaluator_test.sample_cases(False, True)\n",
    "likelihoods_train = evaluator_train.sample_cases(False, True)\n",
    "ll_train_CRD = np.mean([v.ln() for v in likelihoods_train[0].values()])\n",
    "ll_test_CRD = np.mean([v.ln() for v in likelihoods_test[0].values()])\n",
    "crsp_train_CRD = np.mean(get_pscores(likelihoods_train))\n",
    "crsp_test_CRD = np.mean(get_pscores(likelihoods_test))\n"
   ]
  },
  {
   "cell_type": "markdown",
   "id": "4ef1bd19",
   "metadata": {},
   "source": [
    "Evaluation concept_name (C), org_resource (R), day_of_week (D), seconds_since_midnight (S)"
   ]
  },
  {
   "cell_type": "code",
   "execution_count": 7,
   "id": "91e8a137",
   "metadata": {},
   "outputs": [
    {
     "name": "stderr",
     "output_type": "stream",
     "text": [
      "100%|██████████| 358/358 [00:01<00:00, 346.27it/s]\n",
      "100%|██████████| 358/358 [2:45:18<00:00, 27.70s/it]    \n",
      "100%|██████████| 358/358 [22:59<00:00,  3.85s/it]    \n",
      "100%|██████████| 1444/1444 [00:01<00:00, 910.63it/s]\n",
      "100%|██████████| 1444/1444 [5:46:07<00:00, 14.38s/it]     \n",
      "100%|██████████| 1444/1444 [10:19<00:00,  2.33it/s]  \n"
     ]
    }
   ],
   "source": [
    "train_event_log = pd.read_csv(\"../../../data/AR/predictions_SN/train_CRDS.csv\", parse_dates=[\"time:timestamp_start\", \"time:timestamp_complete\"])\n",
    "test_event_log = pd.read_csv(\"../../../data/AR/predictions_SN/test_CRDS.csv\", parse_dates=[\"time:timestamp_start\", \"time:timestamp_complete\"])\n",
    "\n",
    "evaluator_train = ConductEvaluation(\n",
    "    trained_model=trained_model,\n",
    "    sample_model_type=sample_model,\n",
    "    sample_model_kwargs=sample_model_kwargs,\n",
    "    event_log=train_event_log,\n",
    "    n=N,\n",
    "    n_processes=n_processes\n",
    ")\n",
    "\n",
    "evaluator_test = ConductEvaluation(\n",
    "    trained_model=trained_model,\n",
    "    sample_model_type=sample_model,\n",
    "    sample_model_kwargs=sample_model_kwargs,\n",
    "    event_log=test_event_log,\n",
    "    n=N,\n",
    "    n_processes=n_processes\n",
    ")\n",
    "likelihoods_test = evaluator_test.sample_cases(False, True)\n",
    "likelihoods_train = evaluator_train.sample_cases(False, True)\n",
    "ll_train_CRDS = np.mean([v.ln() for v in likelihoods_train[0].values()])\n",
    "ll_test_CRDS = np.mean([v.ln() for v in likelihoods_test[0].values()])\n",
    "crsp_train_CRDS = np.mean(get_pscores(likelihoods_train))\n",
    "crsp_test_CRDS = np.mean(get_pscores(likelihoods_test))\n"
   ]
  },
  {
   "cell_type": "markdown",
   "id": "7f08631b",
   "metadata": {},
   "source": [
    "Evaluation concept_name (C), org_resource (R), day_of_week (D), seconds_since_midnight (S), concept_name_count (CC)"
   ]
  },
  {
   "cell_type": "code",
   "execution_count": 8,
   "id": "640487f7",
   "metadata": {},
   "outputs": [
    {
     "name": "stderr",
     "output_type": "stream",
     "text": [
      "100%|██████████| 358/358 [00:01<00:00, 281.81it/s]\n",
      "100%|██████████| 358/358 [44:50<00:00,  7.52s/it]    \n",
      "100%|██████████| 358/358 [07:02<00:00,  1.18s/it]  \n",
      "100%|██████████| 1444/1444 [00:01<00:00, 958.88it/s]\n",
      "100%|██████████| 1444/1444 [1:34:35<00:00,  3.93s/it]    \n",
      "100%|██████████| 1444/1444 [34:32<00:00,  1.44s/it]   \n"
     ]
    }
   ],
   "source": [
    "train_event_log = pd.read_csv(\"../../../data/AR/predictions_SN/train_CRDSCC.csv\", parse_dates=[\"time:timestamp_start\", \"time:timestamp_complete\"])\n",
    "test_event_log = pd.read_csv(\"../../../data/AR/predictions_SN/test_CRDSCC.csv\", parse_dates=[\"time:timestamp_start\", \"time:timestamp_complete\"])\n",
    "\n",
    "evaluator_train = ConductEvaluation(\n",
    "    trained_model=trained_model,\n",
    "    sample_model_type=sample_model,\n",
    "    sample_model_kwargs=sample_model_kwargs,\n",
    "    event_log=train_event_log,\n",
    "    n=N,\n",
    "    n_processes=n_processes\n",
    ")\n",
    "\n",
    "evaluator_test = ConductEvaluation(\n",
    "    trained_model=trained_model,\n",
    "    sample_model_type=sample_model,\n",
    "    sample_model_kwargs=sample_model_kwargs,\n",
    "    event_log=test_event_log,\n",
    "    n=N,\n",
    "    n_processes=n_processes\n",
    ")\n",
    "likelihoods_test = evaluator_test.sample_cases(False, True)\n",
    "likelihoods_train = evaluator_train.sample_cases(False, True)\n",
    "ll_train_CRDSCC = np.mean([v.ln() for v in likelihoods_train[0].values()])\n",
    "ll_test_CRDSCC = np.mean([v.ln() for v in likelihoods_test[0].values()])\n",
    "crsp_train_CRDSCC = np.mean(get_pscores(likelihoods_train))\n",
    "crsp_test_CRDSCC = np.mean(get_pscores(likelihoods_test))\n"
   ]
  },
  {
   "cell_type": "markdown",
   "id": "c09fd9aa",
   "metadata": {},
   "source": [
    "Evaluation concept_name (C), org_resource (R), day_of_week (D), seconds_since_midnight (S), concept_name_count (CC), org_resource_count (RC)"
   ]
  },
  {
   "cell_type": "code",
   "execution_count": 9,
   "id": "323e4ccd",
   "metadata": {},
   "outputs": [
    {
     "name": "stderr",
     "output_type": "stream",
     "text": [
      "100%|██████████| 358/358 [00:01<00:00, 307.87it/s]\n",
      "100%|██████████| 358/358 [58:14<00:00,  9.76s/it]    \n",
      "100%|██████████| 358/358 [06:47<00:00,  1.14s/it]  \n",
      "100%|██████████| 1444/1444 [00:01<00:00, 1000.94it/s]\n",
      "100%|██████████| 1444/1444 [2:18:53<00:00,  5.77s/it]    \n",
      "100%|██████████| 1444/1444 [1:31:37<00:00,  3.81s/it]    \n"
     ]
    }
   ],
   "source": [
    "train_event_log = pd.read_csv(\"../../../data/AR/predictions_SN/train_CRDSCCRC.csv\", parse_dates=[\"time:timestamp_start\", \"time:timestamp_complete\"])\n",
    "test_event_log = pd.read_csv(\"../../../data/AR/predictions_SN/test_CRDSCCRC.csv\", parse_dates=[\"time:timestamp_start\", \"time:timestamp_complete\"])\n",
    "\n",
    "evaluator_train = ConductEvaluation(\n",
    "    trained_model=trained_model,\n",
    "    sample_model_type=sample_model,\n",
    "    sample_model_kwargs=sample_model_kwargs,\n",
    "    event_log=train_event_log,\n",
    "    n=N,\n",
    "    n_processes=n_processes\n",
    ")\n",
    "\n",
    "evaluator_test = ConductEvaluation(\n",
    "    trained_model=trained_model,\n",
    "    sample_model_type=sample_model,\n",
    "    sample_model_kwargs=sample_model_kwargs,\n",
    "    event_log=test_event_log,\n",
    "    n=N,\n",
    "    n_processes=n_processes\n",
    ")\n",
    "likelihoods_test = evaluator_test.sample_cases(False, True)\n",
    "likelihoods_train = evaluator_train.sample_cases(False, True)\n",
    "ll_train_CRDSCCRC = np.mean([v.ln() for v in likelihoods_train[0].values()])\n",
    "ll_test_CRDSCCRC = np.mean([v.ln() for v in likelihoods_test[0].values()])\n",
    "crsp_train_CRDSCCRC = np.mean(get_pscores(likelihoods_train))\n",
    "crsp_test_CRDSCCRC = np.mean(get_pscores(likelihoods_test))\n"
   ]
  },
  {
   "cell_type": "markdown",
   "id": "ed339936",
   "metadata": {},
   "source": [
    "Results"
   ]
  },
  {
   "cell_type": "code",
   "execution_count": 10,
   "id": "2d45010a",
   "metadata": {},
   "outputs": [
    {
     "name": "stdout",
     "output_type": "stream",
     "text": [
      "Parameters                         LL_train                        LL_test   CRSP_train    CRSP_test\n",
      "         C  -0.9929364567714522100796551440 0.1431554120376068507213374681 10234.408683 10049.406281\n",
      "         R  0.07014503034091624855163300762 0.1396924052250758983638547280 10243.993676 10251.751345\n",
      "        CR -0.01600691369113444665335474744 0.2409360319910269589380374180 10006.264134 10327.822013\n",
      "       CRD -0.01805751037555918329447524436 0.2605252459231998880423587744 10016.964696 10327.144144\n",
      "      CRDS  -0.1180347464386194344989588459 0.3054328170459194966563055128  9697.483788  9759.609884\n",
      "    CRDSCC  0.01574335172734810306343802177 0.3307686584129347837191963830  9328.900423  9461.686719\n",
      "  CRDSCCRC  -0.1063693734815039655089846971 0.3306317889503501552348132042  9329.011771  9459.490177\n"
     ]
    }
   ],
   "source": [
    "results = [\n",
    "    {\"Parameters\": \"C\",      \"LL_train\": ll_train_C,      \"LL_test\": ll_test_C,      \"CRSP_train\": crsp_train_C,      \"CRSP_test\": crsp_test_C},\n",
    "    {\"Parameters\": \"R\",      \"LL_train\": ll_train_R,      \"LL_test\": ll_test_R,      \"CRSP_train\": crsp_train_R,      \"CRSP_test\": crsp_test_R},\n",
    "    {\"Parameters\": \"CR\",     \"LL_train\": ll_train_CR,     \"LL_test\": ll_test_CR,     \"CRSP_train\": crsp_train_CR,     \"CRSP_test\": crsp_test_CR},\n",
    "    {\"Parameters\": \"CRD\",    \"LL_train\": ll_train_CRD,    \"LL_test\": ll_test_CRD,    \"CRSP_train\": crsp_train_CRD,    \"CRSP_test\": crsp_test_CRD},\n",
    "    {\"Parameters\": \"CRDS\",   \"LL_train\": ll_train_CRDS,   \"LL_test\": ll_test_CRDS,   \"CRSP_train\": crsp_train_CRDS,   \"CRSP_test\": crsp_test_CRDS},\n",
    "    {\"Parameters\": \"CRDSCC\", \"LL_train\": ll_train_CRDSCC, \"LL_test\": ll_test_CRDSCC, \"CRSP_train\": crsp_train_CRDSCC, \"CRSP_test\": crsp_test_CRDSCC},\n",
    "    {\"Parameters\": \"CRDSCCRC\",\"LL_train\": ll_train_CRDSCCRC,\"LL_test\": ll_test_CRDSCCRC,\"CRSP_train\": crsp_train_CRDSCCRC,\"CRSP_test\": crsp_test_CRDSCCRC},\n",
    "]\n",
    "\n",
    "results_df = pd.DataFrame(results)\n",
    "print(results_df.to_string(index=False))"
   ]
  },
  {
   "cell_type": "code",
   "execution_count": 11,
   "id": "e89fdc82",
   "metadata": {},
   "outputs": [
    {
     "data": {
      "image/png": "[encoded data removed]",
      "text/plain": [
       "<Figure size 1200x400 with 4 Axes>"
      ]
     },
     "metadata": {},
     "output_type": "display_data"
    }
   ],
   "source": [
    "import seaborn as sns\n",
    "import matplotlib.pyplot as plt\n",
    "\n",
    "# Set up the data for heatmaps\n",
    "ll_df = results_df.set_index(\"Parameters\")[[\"LL_train\", \"LL_test\"]].T.astype(float)\n",
    "crsp_df = results_df.set_index(\"Parameters\")[[\"CRSP_train\", \"CRSP_test\"]].T.astype(float)\n",
    "\n",
    "plt.figure(figsize=(12, 4))\n",
    "\n",
    "# Heatmap for Log-Likelihood (higher is better, green is good)\n",
    "plt.subplot(1, 2, 1)\n",
    "sns.heatmap(ll_df, annot=True, fmt=\".2f\", cmap=\"RdYlGn\", cbar_kws={'label': 'Log-Likelihood'})\n",
    "plt.title(\"Log-Likelihood (Higher is Better)\")\n",
    "\n",
    "# Heatmap for CRSP (lower is better, green is good)\n",
    "plt.subplot(1, 2, 2)\n",
    "sns.heatmap(crsp_df, annot=True, fmt=\".2f\", cmap=\"RdYlGn_r\", cbar_kws={'label': 'CRSP'})\n",
    "plt.title(\"CRSP (Lower is Better)\")\n",
    "\n",
    "plt.tight_layout()\n",
    "plt.show()"
   ]
  }
 ],
 "metadata": {
  "kernelspec": {
   "display_name": "BAML_Projects",
   "language": "python",
   "name": "baml_projects"
  },
  "language_info": {
   "codemirror_mode": {
    "name": "ipython",
    "version": 3
   },
   "file_extension": ".py",
   "mimetype": "text/x-python",
   "name": "python",
   "nbconvert_exporter": "python",
   "pygments_lexer": "ipython3",
   "version": "3.12.7"
  }
 },
 "nbformat": 4,
 "nbformat_minor": 5
}
