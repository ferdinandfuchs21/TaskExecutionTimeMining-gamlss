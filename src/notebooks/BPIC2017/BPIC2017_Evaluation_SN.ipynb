{
 "cells": [
  {
   "cell_type": "code",
   "execution_count": 1,
   "id": "61599282-3bd8-46fd-a995-d1b172f58433",
   "metadata": {},
   "outputs": [],
   "source": [
    "import numpy as np\n",
    "import sys\n",
    "import CRPS.CRPS as pscore\n",
    "\n",
    "sys.path.append('../../Evaluation/')\n",
    "from conduct_evaluation import ConductEvaluation\n",
    "\n",
    "from normal_evaluation.gamlss_evaluation import *\n",
    "\n",
    "import pandas as pd"
   ]
  },
  {
   "cell_type": "code",
   "execution_count": 2,
   "id": "de1647e8",
   "metadata": {},
   "outputs": [],
   "source": [
    "sample_model = SampleOutcomes_GAMLSS_SN1\n",
    "trained_model = None\n",
    "sample_model_kwargs = {}\n",
    "N = 1000\n",
    "n_processes = 50\n",
    "\n",
    "get_pscores = lambda likelihoods : [pscore(likelihoods[1][i], likelihoods[2][k][3]).compute()[0] for i, k in enumerate(list(likelihoods[0].keys()))]"
   ]
  },
  {
   "cell_type": "code",
   "execution_count": 3,
   "id": "87108e65",
   "metadata": {},
   "outputs": [
    {
     "name": "stderr",
     "output_type": "stream",
     "text": [
      "100%|██████████| 6068/6068 [00:09<00:00, 619.75it/s]\n",
      "100%|██████████| 6068/6068 [1:46:38<00:00,  1.05s/it]     \n",
      "100%|██████████| 6068/6068 [01:07<00:00, 89.43it/s] \n",
      "100%|██████████| 24541/24541 [02:03<00:00, 198.31it/s]\n",
      "100%|██████████| 24541/24541 [3:04:55<00:00,  2.21it/s]     \n",
      "100%|██████████| 24541/24541 [01:47<00:00, 227.82it/s]\n"
     ]
    },
    {
     "data": {
      "text/plain": [
       "{'ll_test': Decimal('-133.7644910259837365752068546'),\n",
       " 'll_train': Decimal('-144.1899773620217028055605751'),\n",
       " 'crsp_train': np.float64(898399.6395108419),\n",
       " 'crsp_test': np.float64(882482.1361962748)}"
      ]
     },
     "execution_count": 3,
     "metadata": {},
     "output_type": "execute_result"
    }
   ],
   "source": [
    "train_event_log = pd.read_csv(\"../../../data/BPIC2017/predictions_SN/train_C.csv\", parse_dates=[\"time:timestamp_start\", \"time:timestamp_complete\"])\n",
    "test_event_log = pd.read_csv(\"../../../data/BPIC2017/predictions_SN/test_C.csv\", parse_dates=[\"time:timestamp_start\", \"time:timestamp_complete\"])\n",
    "\n",
    "for col in [\"time:timestamp_start\", \"time:timestamp_complete\"]:\n",
    "    train_event_log[col] = pd.to_datetime(train_event_log[col], errors=\"coerce\")\n",
    "    test_event_log[col] = pd.to_datetime(test_event_log[col], errors=\"coerce\")\n",
    "\n",
    "evaluator_train = ConductEvaluation(\n",
    "    trained_model=trained_model,\n",
    "    sample_model_type=sample_model,\n",
    "    sample_model_kwargs=sample_model_kwargs,\n",
    "    event_log=train_event_log,\n",
    "    n=N,\n",
    "    n_processes=n_processes\n",
    ")\n",
    "\n",
    "evaluator_test = ConductEvaluation(\n",
    "    trained_model=trained_model,\n",
    "    sample_model_type=sample_model,\n",
    "    sample_model_kwargs=sample_model_kwargs,\n",
    "    event_log=test_event_log,\n",
    "    n=N,\n",
    "    n_processes=n_processes\n",
    ")\n",
    "\n",
    "likelihoods_test = evaluator_test.sample_cases(False, True)\n",
    "likelihoods_train = evaluator_train.sample_cases(False, True)\n",
    "\n",
    "\n",
    "results = {\n",
    "    \"ll_test\": np.mean([v.ln() for v in likelihoods_test[0].values()]),\n",
    "    \"ll_train\": np.mean([v.ln() for v in likelihoods_train[0].values()]),\n",
    "    \"crsp_train\": np.mean(get_pscores(likelihoods_train)),\n",
    "    \"crsp_test\": np.mean(get_pscores(likelihoods_test))\n",
    "}\n",
    "results"
   ]
  },
  {
   "cell_type": "code",
   "execution_count": 4,
   "id": "4959d4db",
   "metadata": {},
   "outputs": [
    {
     "name": "stderr",
     "output_type": "stream",
     "text": [
      "100%|██████████| 6068/6068 [00:09<00:00, 668.53it/s]\n",
      "100%|██████████| 6068/6068 [1:16:11<00:00,  1.33it/s]    \n",
      "100%|██████████| 6068/6068 [00:41<00:00, 146.50it/s]\n",
      "100%|██████████| 24541/24541 [01:47<00:00, 227.81it/s]\n",
      "100%|██████████| 24541/24541 [2:27:58<00:00,  2.76it/s]    \n",
      "100%|██████████| 24541/24541 [01:47<00:00, 228.16it/s]\n"
     ]
    },
    {
     "data": {
      "text/plain": [
       "{'ll_test': Decimal('-133.7644910259837365752068546'),\n",
       " 'll_train': Decimal('-144.1899773620217028055605751'),\n",
       " 'crsp_train': np.float64(898399.6395108419),\n",
       " 'crsp_test': np.float64(882482.1361962748)}"
      ]
     },
     "execution_count": 4,
     "metadata": {},
     "output_type": "execute_result"
    }
   ],
   "source": [
    "train_event_log = pd.read_csv(\"../../../data/BPIC2017/predictions_SN/train_R.csv\", parse_dates=[\"time:timestamp_start\", \"time:timestamp_complete\"])\n",
    "test_event_log = pd.read_csv(\"../../../data/BPIC2017/predictions_SN/test_R.csv\", parse_dates=[\"time:timestamp_start\", \"time:timestamp_complete\"])\n",
    "\n",
    "for col in [\"time:timestamp_start\", \"time:timestamp_complete\"]:\n",
    "    train_event_log[col] = pd.to_datetime(train_event_log[col], errors=\"coerce\")\n",
    "    test_event_log[col] = pd.to_datetime(test_event_log[col], errors=\"coerce\")\n",
    "\n",
    "evaluator_train = ConductEvaluation(\n",
    "    trained_model=trained_model,\n",
    "    sample_model_type=sample_model,\n",
    "    sample_model_kwargs=sample_model_kwargs,\n",
    "    event_log=train_event_log,\n",
    "    n=N,\n",
    "    n_processes=n_processes\n",
    ")\n",
    "\n",
    "evaluator_test = ConductEvaluation(\n",
    "    trained_model=trained_model,\n",
    "    sample_model_type=sample_model,\n",
    "    sample_model_kwargs=sample_model_kwargs,\n",
    "    event_log=test_event_log,\n",
    "    n=N,\n",
    "    n_processes=n_processes\n",
    ")\n",
    "\n",
    "likelihoods_test = evaluator_test.sample_cases(False, True)\n",
    "likelihoods_train = evaluator_train.sample_cases(False, True)\n",
    "\n",
    "\n",
    "results = {\n",
    "    \"ll_test\": np.mean([v.ln() for v in likelihoods_test[0].values()]),\n",
    "    \"ll_train\": np.mean([v.ln() for v in likelihoods_train[0].values()]),\n",
    "    \"crsp_train\": np.mean(get_pscores(likelihoods_train)),\n",
    "    \"crsp_test\": np.mean(get_pscores(likelihoods_test))\n",
    "}\n",
    "results"
   ]
  },
  {
   "cell_type": "code",
   "execution_count": 3,
   "id": "59270d88",
   "metadata": {},
   "outputs": [
    {
     "name": "stderr",
     "output_type": "stream",
     "text": [
      "100%|██████████| 6068/6068 [00:08<00:00, 752.49it/s] \n",
      "100%|██████████| 6068/6068 [1:14:36<00:00,  1.36it/s]    \n",
      "100%|██████████| 6068/6068 [00:42<00:00, 144.37it/s]\n",
      "100%|██████████| 24541/24541 [01:41<00:00, 240.79it/s]\n",
      "100%|██████████| 24541/24541 [2:27:16<00:00,  2.78it/s]    \n",
      "100%|██████████| 24541/24541 [01:47<00:00, 227.81it/s]\n"
     ]
    },
    {
     "data": {
      "text/plain": [
       "{'ll_test': Decimal('-170.1728645957766762047512343'),\n",
       " 'll_train': Decimal('-184.9346192491388363372964391'),\n",
       " 'crsp_train': np.float64(925163.7694302965),\n",
       " 'crsp_test': np.float64(909750.2862218146)}"
      ]
     },
     "execution_count": 3,
     "metadata": {},
     "output_type": "execute_result"
    }
   ],
   "source": [
    "train_event_log = pd.read_csv(\"../../../data/BPIC2017/predictions_SN/train_CR.csv\", parse_dates=[\"time:timestamp_start\", \"time:timestamp_complete\"])\n",
    "test_event_log = pd.read_csv(\"../../../data/BPIC2017/predictions_SN/test_CR.csv\", parse_dates=[\"time:timestamp_start\", \"time:timestamp_complete\"])\n",
    "\n",
    "for col in [\"time:timestamp_start\", \"time:timestamp_complete\"]:\n",
    "    train_event_log[col] = pd.to_datetime(train_event_log[col], errors=\"coerce\")\n",
    "    test_event_log[col] = pd.to_datetime(test_event_log[col], errors=\"coerce\")\n",
    "\n",
    "evaluator_train = ConductEvaluation(\n",
    "    trained_model=trained_model,\n",
    "    sample_model_type=sample_model,\n",
    "    sample_model_kwargs=sample_model_kwargs,\n",
    "    event_log=train_event_log,\n",
    "    n=N,\n",
    "    n_processes=n_processes\n",
    ")\n",
    "\n",
    "evaluator_test = ConductEvaluation(\n",
    "    trained_model=trained_model,\n",
    "    sample_model_type=sample_model,\n",
    "    sample_model_kwargs=sample_model_kwargs,\n",
    "    event_log=test_event_log,\n",
    "    n=N,\n",
    "    n_processes=n_processes\n",
    ")\n",
    "\n",
    "likelihoods_test = evaluator_test.sample_cases(False, True)\n",
    "likelihoods_train = evaluator_train.sample_cases(False, True)\n",
    "\n",
    "\n",
    "results = {\n",
    "    \"ll_test\": np.mean([v.ln() for v in likelihoods_test[0].values()]),\n",
    "    \"ll_train\": np.mean([v.ln() for v in likelihoods_train[0].values()]),\n",
    "    \"crsp_train\": np.mean(get_pscores(likelihoods_train)),\n",
    "    \"crsp_test\": np.mean(get_pscores(likelihoods_test))\n",
    "}\n",
    "results"
   ]
  },
  {
   "cell_type": "code",
   "execution_count": 4,
   "id": "71b5bdcb",
   "metadata": {},
   "outputs": [
    {
     "name": "stderr",
     "output_type": "stream",
     "text": [
      "100%|██████████| 6068/6068 [00:09<00:00, 639.86it/s]\n",
      "100%|██████████| 6068/6068 [1:11:59<00:00,  1.40it/s]    \n",
      "100%|██████████| 6068/6068 [00:41<00:00, 144.88it/s]\n",
      "100%|██████████| 24541/24541 [01:49<00:00, 223.11it/s]\n",
      "100%|██████████| 24541/24541 [2:28:22<00:00,  2.76it/s]    \n",
      "100%|██████████| 24541/24541 [01:46<00:00, 229.49it/s]\n"
     ]
    },
    {
     "data": {
      "text/plain": [
       "{'ll_test': Decimal('-151.7150658207009952024624234'),\n",
       " 'll_train': Decimal('-165.9874495350864341570407834'),\n",
       " 'crsp_train': np.float64(912943.3113447775),\n",
       " 'crsp_test': np.float64(896194.2242739402)}"
      ]
     },
     "execution_count": 4,
     "metadata": {},
     "output_type": "execute_result"
    }
   ],
   "source": [
    "train_event_log = pd.read_csv(\"../../../data/BPIC2017/predictions_SN/train_CRS.csv\", parse_dates=[\"time:timestamp_start\", \"time:timestamp_complete\"])\n",
    "test_event_log = pd.read_csv(\"../../../data/BPIC2017/predictions_SN/test_CRS.csv\", parse_dates=[\"time:timestamp_start\", \"time:timestamp_complete\"])\n",
    "\n",
    "for col in [\"time:timestamp_start\", \"time:timestamp_complete\"]:\n",
    "    train_event_log[col] = pd.to_datetime(train_event_log[col], errors=\"coerce\")\n",
    "    test_event_log[col] = pd.to_datetime(test_event_log[col], errors=\"coerce\")\n",
    "\n",
    "evaluator_train = ConductEvaluation(\n",
    "    trained_model=trained_model,\n",
    "    sample_model_type=sample_model,\n",
    "    sample_model_kwargs=sample_model_kwargs,\n",
    "    event_log=train_event_log,\n",
    "    n=N,\n",
    "    n_processes=n_processes\n",
    ")\n",
    "\n",
    "evaluator_test = ConductEvaluation(\n",
    "    trained_model=trained_model,\n",
    "    sample_model_type=sample_model,\n",
    "    sample_model_kwargs=sample_model_kwargs,\n",
    "    event_log=test_event_log,\n",
    "    n=N,\n",
    "    n_processes=n_processes\n",
    ")\n",
    "\n",
    "likelihoods_test = evaluator_test.sample_cases(False, True)\n",
    "likelihoods_train = evaluator_train.sample_cases(False, True)\n",
    "\n",
    "\n",
    "results = {\n",
    "    \"ll_test\": np.mean([v.ln() for v in likelihoods_test[0].values()]),\n",
    "    \"ll_train\": np.mean([v.ln() for v in likelihoods_train[0].values()]),\n",
    "    \"crsp_train\": np.mean(get_pscores(likelihoods_train)),\n",
    "    \"crsp_test\": np.mean(get_pscores(likelihoods_test))\n",
    "}\n",
    "results"
   ]
  },
  {
   "cell_type": "code",
   "execution_count": 3,
   "id": "433c995b",
   "metadata": {},
   "outputs": [
    {
     "name": "stderr",
     "output_type": "stream",
     "text": [
      "100%|██████████| 6068/6068 [00:14<00:00, 413.62it/s]\n",
      "100%|██████████| 6068/6068 [2:11:14<00:00,  1.30s/it]     \n",
      "100%|██████████| 6068/6068 [01:15<00:00, 79.93it/s] \n",
      "100%|██████████| 24541/24541 [02:37<00:00, 155.87it/s]\n",
      "100%|██████████| 24541/24541 [2:39:34<00:00,  2.56it/s]    \n",
      "100%|██████████| 24541/24541 [01:46<00:00, 231.49it/s]\n"
     ]
    },
    {
     "data": {
      "text/plain": [
       "{'ll_test': Decimal('-185.0023075132948797094091602'),\n",
       " 'll_train': Decimal('-201.1937844615372827882898488'),\n",
       " 'crsp_train': np.float64(936310.2860191909),\n",
       " 'crsp_test': np.float64(919192.5117684134)}"
      ]
     },
     "execution_count": 3,
     "metadata": {},
     "output_type": "execute_result"
    }
   ],
   "source": [
    "train_event_log = pd.read_csv(\"../../../data/BPIC2017/predictions_SN/train_CRSD.csv\", parse_dates=[\"time:timestamp_start\", \"time:timestamp_complete\"])\n",
    "test_event_log = pd.read_csv(\"../../../data/BPIC2017/predictions_SN/test_CRSD.csv\", parse_dates=[\"time:timestamp_start\", \"time:timestamp_complete\"])\n",
    "\n",
    "for col in [\"time:timestamp_start\", \"time:timestamp_complete\"]:\n",
    "    train_event_log[col] = pd.to_datetime(train_event_log[col], errors=\"coerce\")\n",
    "    test_event_log[col] = pd.to_datetime(test_event_log[col], errors=\"coerce\")\n",
    "\n",
    "evaluator_train = ConductEvaluation(\n",
    "    trained_model=trained_model,\n",
    "    sample_model_type=sample_model,\n",
    "    sample_model_kwargs=sample_model_kwargs,\n",
    "    event_log=train_event_log,\n",
    "    n=N,\n",
    "    n_processes=n_processes\n",
    ")\n",
    "\n",
    "evaluator_test = ConductEvaluation(\n",
    "    trained_model=trained_model,\n",
    "    sample_model_type=sample_model,\n",
    "    sample_model_kwargs=sample_model_kwargs,\n",
    "    event_log=test_event_log,\n",
    "    n=N,\n",
    "    n_processes=n_processes\n",
    ")\n",
    "\n",
    "likelihoods_test = evaluator_test.sample_cases(False, True)\n",
    "likelihoods_train = evaluator_train.sample_cases(False, True)\n",
    "\n",
    "\n",
    "results = {\n",
    "    \"ll_test\": np.mean([v.ln() for v in likelihoods_test[0].values()]),\n",
    "    \"ll_train\": np.mean([v.ln() for v in likelihoods_train[0].values()]),\n",
    "    \"crsp_train\": np.mean(get_pscores(likelihoods_train)),\n",
    "    \"crsp_test\": np.mean(get_pscores(likelihoods_test))\n",
    "}\n",
    "results"
   ]
  }
 ],
 "metadata": {
  "kernelspec": {
   "display_name": "FerdinandFuchs-ZC3r96nX",
   "language": "python",
   "name": "python3"
  },
  "language_info": {
   "codemirror_mode": {
    "name": "ipython",
    "version": 3
   },
   "file_extension": ".py",
   "mimetype": "text/x-python",
   "name": "python",
   "nbconvert_exporter": "python",
   "pygments_lexer": "ipython3",
   "version": "3.12.7"
  }
 },
 "nbformat": 4,
 "nbformat_minor": 5
}
