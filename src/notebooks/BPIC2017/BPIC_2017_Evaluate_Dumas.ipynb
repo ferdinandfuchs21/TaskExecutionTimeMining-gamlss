{
 "cells": [
  {
   "cell_type": "code",
   "execution_count": 2,
   "id": "b23efad2-bb13-488a-ac26-d2dcfb3bdea7",
   "metadata": {
    "execution": {
     "iopub.execute_input": "2024-11-21T14:30:02.459464Z",
     "iopub.status.busy": "2024-11-21T14:30:02.458661Z",
     "iopub.status.idle": "2024-11-21T14:30:05.202787Z",
     "shell.execute_reply": "2024-11-21T14:30:05.200132Z"
    }
   },
   "outputs": [],
   "source": [
    "import numpy as np\n",
    "import pandas\n",
    "import pm4py\n",
    "from matplotlib import pyplot as plt\n",
    "from sklearn.mixture import GaussianMixture\n",
    "import scipy.stats as stats\n",
    "import ot\n",
    "import os\n",
    "from tqdm import tqdm\n",
    "import collections\n",
    "import matplotlib.dates as md\n",
    "import importlib\n",
    "import pickle\n",
    "import random\n",
    "import CRPS.CRPS as pscore\n",
    "\n",
    "\n",
    "pandas.set_option('display.max_columns', None)\n",
    "#pandas.set_option('display.max_rows', None)\n",
    "\n",
    "\n",
    "import sys\n",
    "sys.path.append('../../TaskExecutionTimeMining/')\n",
    "from event_log_transformer import *\n",
    "\n",
    "#sys.path.append('../../Evaluation')\n",
    "sys.path.append('../../Evaluation/')\n",
    "from normal_evaluation.dumas_evaluation import *"
   ]
  },
  {
   "cell_type": "code",
   "execution_count": 3,
   "id": "28ddeb63-9223-41a3-9861-25c457a15fb2",
   "metadata": {
    "execution": {
     "iopub.execute_input": "2024-11-21T14:30:05.211205Z",
     "iopub.status.busy": "2024-11-21T14:30:05.210582Z",
     "iopub.status.idle": "2024-11-21T14:30:09.035431Z",
     "shell.execute_reply": "2024-11-21T14:30:09.033179Z"
    }
   },
   "outputs": [],
   "source": [
    "import sys\n",
    "sys.path.append('../../../src/TaskExecutionTimeMining/pix-framework-main/src')\n",
    "\n",
    "with open('./dumas_model.pickle', 'rb') as f:\n",
    "    dumas_model = pickle.load(f)\n",
    "\n",
    "with open('./dumas_model_no_resource.pickle', 'rb') as f:\n",
    "    dumas_model_no_resource = pickle.load(f)"
   ]
  },
  {
   "cell_type": "code",
   "execution_count": 4,
   "id": "6b486be5-96fd-4579-9ace-464021a6f682",
   "metadata": {
    "execution": {
     "iopub.execute_input": "2024-11-21T14:30:09.041428Z",
     "iopub.status.busy": "2024-11-21T14:30:09.041211Z",
     "iopub.status.idle": "2024-11-21T14:30:09.052836Z",
     "shell.execute_reply": "2024-11-21T14:30:09.050627Z"
    }
   },
   "outputs": [],
   "source": [
    "import conduct_evaluation\n",
    "get_pscores = lambda likelihoods : [pscore(likelihoods[1][i], likelihoods[2][k][3]).compute()[0] for i, k in enumerate(list(likelihoods[0].keys()))]\n",
    "n_processes = 12\n",
    "\n",
    "N = 1000"
   ]
  },
  {
   "cell_type": "code",
   "execution_count": 5,
   "id": "c62957ba-ae96-422f-a280-e3ba3e2e6689",
   "metadata": {
    "collapsed": true,
    "execution": {
     "iopub.execute_input": "2024-11-21T14:30:09.058547Z",
     "iopub.status.busy": "2024-11-21T14:30:09.058213Z",
     "iopub.status.idle": "2024-11-21T14:30:10.336472Z",
     "shell.execute_reply": "2024-11-21T14:30:10.333879Z"
    },
    "jupyter": {
     "outputs_hidden": true
    }
   },
   "outputs": [],
   "source": [
    "with open('../../../data/BPIC2017/transformed_event_logs//BPIC2017_train.pickle', 'rb') as f:\n",
    "    train_data = pickle.load(f)\n",
    "\n",
    "with open('../../../data/BPIC2017/transformed_event_logs/BPIC2017_test.pickle', 'rb') as f:\n",
    "    test_data = pickle.load(f)"
   ]
  },
  {
   "cell_type": "code",
   "execution_count": 6,
   "id": "70ce5b60",
   "metadata": {},
   "outputs": [
    {
     "name": "stderr",
     "output_type": "stream",
     "text": [
      "100%|██████████| 24541/24541 [02:38<00:00, 155.22it/s]\n",
      "100%|██████████| 24541/24541 [1:12:52<00:00,  5.61it/s]  \n",
      "100%|██████████| 24541/24541 [03:59<00:00, 102.51it/s]\n",
      "100%|██████████| 6068/6068 [00:11<00:00, 528.44it/s]\n",
      "100%|██████████| 6068/6068 [20:16<00:00,  4.99it/s]    \n",
      "100%|██████████| 6068/6068 [00:56<00:00, 108.13it/s]\n"
     ]
    },
    {
     "data": {
      "text/plain": [
       "{'ll_train': Decimal('-4.361289495047149513101817860'),\n",
       " 'll_test': Decimal('-4.145566228697533014621765417'),\n",
       " 'crsp_train': np.float64(718316.4196758654),\n",
       " 'crsp_test': np.float64(718007.1490281759)}"
      ]
     },
     "execution_count": 6,
     "metadata": {},
     "output_type": "execute_result"
    }
   ],
   "source": [
    "evaluator_train = conduct_evaluation.ConductEvaluation(dumas_model, SampleOutcomes_Dumas_Normal,\n",
    "                                                 {\n",
    "                                                        'activity_key' : 'concept:name',\n",
    "                                                        'resource_key' : 'org:resource_start',\n",
    "                                                 },\n",
    "                                     train_data, n=N, n_processes = n_processes)\n",
    "\n",
    "evaluator_test = conduct_evaluation.ConductEvaluation(dumas_model, SampleOutcomes_Dumas_Normal,\n",
    "                                                 {\n",
    "                                                        'activity_key' : 'concept:name',\n",
    "                                                        'resource_key' : 'org:resource_start',\n",
    "                                                 },\n",
    "                                     test_data, n=N, n_processes = n_processes)\n",
    "\n",
    "likelihoods_train = evaluator_train.sample_cases(plot_cases=False, multiprocessing=True)\n",
    "likelihoods_test = evaluator_test.sample_cases(plot_cases=False, multiprocessing=True)\n",
    "\n",
    "results = {\n",
    "    \"ll_train\": np.mean([v.ln() for v in likelihoods_train[0].values()]),\n",
    "    \"ll_test\": np.mean([v.ln() for v in likelihoods_test[0].values()]),\n",
    "    \"crsp_train\": np.mean(get_pscores(likelihoods_train)),\n",
    "    \"crsp_test\": np.mean(get_pscores(likelihoods_test))\n",
    "}\n",
    "results"
   ]
  },
  {
   "cell_type": "code",
   "execution_count": 7,
   "id": "bb6a3263",
   "metadata": {},
   "outputs": [
    {
     "name": "stderr",
     "output_type": "stream",
     "text": [
      "100%|██████████| 24541/24541 [02:08<00:00, 190.40it/s]\n",
      "100%|██████████| 24541/24541 [2:23:57<00:00,  2.84it/s]  \n",
      "100%|██████████| 24541/24541 [07:03<00:00, 57.98it/s] \n",
      "100%|██████████| 6068/6068 [00:20<00:00, 295.33it/s]\n",
      "100%|██████████| 6068/6068 [30:43<00:00,  3.29it/s]    \n",
      "100%|██████████| 6068/6068 [01:11<00:00, 84.65it/s] \n"
     ]
    },
    {
     "data": {
      "text/plain": [
       "{'ll_train': Decimal('-4.328937963741169498158402575'),\n",
       " 'll_test': Decimal('-4.070875191457320676632662063'),\n",
       " 'crsp_train': np.float64(709320.1683225778),\n",
       " 'crsp_test': np.float64(711259.819245299)}"
      ]
     },
     "execution_count": 7,
     "metadata": {},
     "output_type": "execute_result"
    }
   ],
   "source": [
    "evaluator_train = conduct_evaluation.ConductEvaluation(dumas_model_no_resource, SampleOutcomes_Dumas_Normal,\n",
    "                                                 {\n",
    "                                                        'activity_key' : 'concept:name',\n",
    "                                                        'resource_key' : 'org:resource_start',\n",
    "                                                 },\n",
    "                                     train_data, n=N, n_processes = n_processes)\n",
    "\n",
    "evaluator_test = conduct_evaluation.ConductEvaluation(dumas_model_no_resource, SampleOutcomes_Dumas_Normal,\n",
    "                                                 {\n",
    "                                                        'activity_key' : 'concept:name',\n",
    "                                                        'resource_key' : 'org:resource_start',\n",
    "                                                 },\n",
    "                                     test_data, n=N, n_processes = n_processes)\n",
    "\n",
    "likelihoods_train = evaluator_train.sample_cases(plot_cases=False, multiprocessing=True)\n",
    "likelihoods_test = evaluator_test.sample_cases(plot_cases=False, multiprocessing=True)\n",
    "\n",
    "results = {\n",
    "    \"ll_train\": np.mean([v.ln() for v in likelihoods_train[0].values()]),\n",
    "    \"ll_test\": np.mean([v.ln() for v in likelihoods_test[0].values()]),\n",
    "    \"crsp_train\": np.mean(get_pscores(likelihoods_train)),\n",
    "    \"crsp_test\": np.mean(get_pscores(likelihoods_test))\n",
    "}\n",
    "results"
   ]
  }
 ],
 "metadata": {
  "kernelspec": {
   "display_name": "FerdinandFuchs-ZC3r96nX",
   "language": "python",
   "name": "python3"
  },
  "language_info": {
   "codemirror_mode": {
    "name": "ipython",
    "version": 3
   },
   "file_extension": ".py",
   "mimetype": "text/x-python",
   "name": "python",
   "nbconvert_exporter": "python",
   "pygments_lexer": "ipython3",
   "version": "3.12.7"
  }
 },
 "nbformat": 4,
 "nbformat_minor": 5
}
